{
 "cells": [
  {
   "cell_type": "code",
   "execution_count": null,
   "id": "62f42783-1376-46f0-8e6d-cffda6a84a34",
   "metadata": {},
   "outputs": [],
   "source": [
    "# comment\n",
    "\n",
    "x=3 # comment"
   ]
  },
  {
   "cell_type": "code",
   "execution_count": null,
   "id": "46f7c2fa-8767-45af-8279-1b28c3a9d57b",
   "metadata": {},
   "outputs": [],
   "source": [
    "# statemnet 1\n",
    "#\n",
    "# statemnet 2\n",
    "#\n",
    "# statemnet 3\n"
   ]
  },
  {
   "cell_type": "code",
   "execution_count": null,
   "id": "fc78c1f9-bbaf-4195-9558-1c03ad64d11f",
   "metadata": {},
   "outputs": [],
   "source": [
    "''' Docstring '''\n",
    "# module\n",
    "# class\n",
    "# function\n",
    "# not ignore"
   ]
  },
  {
   "cell_type": "code",
   "execution_count": null,
   "id": "983de51d-aa78-491e-9139-3123c7e97d87",
   "metadata": {},
   "outputs": [],
   "source": [
    "\"\"\" Docstring \"\"\""
   ]
  },
  {
   "cell_type": "code",
   "execution_count": null,
   "id": "b0e16cdd-2570-4d37-b742-10e655c44448",
   "metadata": {},
   "outputs": [],
   "source": [
    "def function():\n",
    "    '''\n",
    "    parameter: bla bla bla\n",
    "    output: bla bla\n",
    "    '''\n",
    "    pass"
   ]
  },
  {
   "cell_type": "code",
   "execution_count": null,
   "id": "9b1e5345-fc5e-4083-bc8e-c78e2630c58f",
   "metadata": {},
   "outputs": [],
   "source": []
  },
  {
   "cell_type": "code",
   "execution_count": null,
   "id": "ac51352b-14e3-4ce0-9635-eea2ef0482bb",
   "metadata": {},
   "outputs": [],
   "source": [
    "function.__doc__"
   ]
  },
  {
   "cell_type": "markdown",
   "id": "d0dbc1e0-0cbe-4e4a-a810-2bc76be8b2c2",
   "metadata": {},
   "source": [
    "##### Proj2 : what is `__doc__`"
   ]
  },
  {
   "cell_type": "code",
   "execution_count": null,
   "id": "d241e1b9-2eb3-41e7-bccc-1b66d842e454",
   "metadata": {},
   "outputs": [],
   "source": [
    "def myFunc():\n",
    "    x = 2\n",
    "    print(x)\n",
    "    '''\n",
    "    explain: This function print x value.\n",
    "    '''\n",
    "myFunc()"
   ]
  },
  {
   "cell_type": "code",
   "execution_count": null,
   "id": "e713f879-db9d-4d45-b2e3-6edb9920acec",
   "metadata": {},
   "outputs": [],
   "source": [
    "print.__doc__"
   ]
  },
  {
   "cell_type": "code",
   "execution_count": null,
   "id": "b74dcfbd-eed6-4fab-8bef-3d6b4091b723",
   "metadata": {},
   "outputs": [],
   "source": [
    "print(myFunc.__doc__)"
   ]
  },
  {
   "cell_type": "code",
   "execution_count": null,
   "id": "4ef253d7-dcd6-4a7f-b51e-f7c2a44a2f3a",
   "metadata": {},
   "outputs": [],
   "source": [
    "# comment ----> programmers \n",
    "# docstring -----> users , what does code work ?"
   ]
  },
  {
   "cell_type": "markdown",
   "id": "908a38e2-9f28-474c-9e92-e8bd5b406e72",
   "metadata": {},
   "source": [
    "#### Indentation"
   ]
  },
  {
   "cell_type": "markdown",
   "id": "08872c95-f3ac-4335-bfa1-2470a1ebc32a",
   "metadata": {},
   "source": [
    "#### -- Where in other programming languages the indentation in code is for readability only, the indentation in Python is very important.\n",
    "#### -- Python uses indentation to indicate a block of code."
   ]
  },
  {
   "cell_type": "code",
   "execution_count": null,
   "id": "a27123f3-c320-48a2-ab9c-202ea0b76fec",
   "metadata": {},
   "outputs": [],
   "source": [
    "if 5 > 2:\n",
    "    print(\"Five is greater than two!\")\n",
    "    print('anything')"
   ]
  },
  {
   "cell_type": "markdown",
   "id": "2574381c-ff8d-4ed4-bca5-c084d88c885b",
   "metadata": {},
   "source": [
    "* You have to use the same number of spaces in the same block of code."
   ]
  },
  {
   "cell_type": "code",
   "execution_count": null,
   "id": "9607eb77-a6d6-488e-83a7-c2df26e46ac8",
   "metadata": {},
   "outputs": [],
   "source": [
    "if 5 > 2:\n",
    " print(\"Five is greater than two!\")\n",
    "        print(\"Five is greater than two!\")"
   ]
  },
  {
   "cell_type": "code",
   "execution_count": null,
   "id": "074e94fc-70fe-44b3-969c-cc91b63eb064",
   "metadata": {},
   "outputs": [],
   "source": [
    "# Indentation for blocking.\n",
    "for i in range(1,10):\n",
    "    print(i)"
   ]
  },
  {
   "cell_type": "code",
   "execution_count": null,
   "id": "eadccb15-ad42-420b-9722-526b4c875fe3",
   "metadata": {},
   "outputs": [],
   "source": [
    "def f1():\n",
    "    def f2():\n",
    "        print('salam')\n",
    "    f2()\n",
    "\n",
    "#namespace\n",
    "#scope"
   ]
  },
  {
   "cell_type": "code",
   "execution_count": null,
   "id": "f3252408-d4ce-41fa-84e3-ccb88c363339",
   "metadata": {},
   "outputs": [],
   "source": [
    "f1()"
   ]
  },
  {
   "cell_type": "code",
   "execution_count": null,
   "id": "ead172ba-b03b-4e61-b283-859313d0fff2",
   "metadata": {},
   "outputs": [],
   "source": [
    "# Tab = 4 sapces by default\n",
    "# PEP8"
   ]
  },
  {
   "cell_type": "code",
   "execution_count": null,
   "id": "f3abaca3-7309-41cd-ad03-6733052351f7",
   "metadata": {},
   "outputs": [],
   "source": [
    "d = {'a':1,\n",
    "     'b':2,\n",
    "     'c':3}\n",
    "#just for beauty"
   ]
  },
  {
   "cell_type": "code",
   "execution_count": null,
   "id": "3fb83aac-a870-4345-b454-06c923abe56b",
   "metadata": {},
   "outputs": [],
   "source": [
    "d"
   ]
  },
  {
   "cell_type": "code",
   "execution_count": null,
   "id": "f9e25a80-638b-449d-a838-2cb067f75528",
   "metadata": {},
   "outputs": [],
   "source": [
    "import sys\n",
    "sys.stdout.write('hi')"
   ]
  },
  {
   "cell_type": "code",
   "execution_count": null,
   "id": "b07eadc6-5686-43b3-b702-f39b5d2d8755",
   "metadata": {},
   "outputs": [],
   "source": [
    "print('hi')"
   ]
  },
  {
   "cell_type": "markdown",
   "id": "a30f1db4-886b-48c9-ac99-a0773f79af2b",
   "metadata": {},
   "source": [
    "##### Proj3 : search about `sys.stdout & print()`"
   ]
  },
  {
   "cell_type": "code",
   "execution_count": null,
   "id": "08da87bd-58c5-42e2-9fb1-4675443983e1",
   "metadata": {},
   "outputs": [],
   "source": [
    "# O/I\n",
    "x = 2\n",
    "y = 3\n",
    "print('multi:', x*y)"
   ]
  },
  {
   "cell_type": "code",
   "execution_count": null,
   "id": "37409b43-9083-42bf-ad0c-45617911a659",
   "metadata": {},
   "outputs": [],
   "source": [
    "len('a')"
   ]
  },
  {
   "cell_type": "code",
   "execution_count": null,
   "id": "8bd5fde6-c4b0-4f4f-a9b3-6bf98386c1e0",
   "metadata": {},
   "outputs": [],
   "source": [
    "x = 2\n",
    "y = 3\n",
    "print('multi:', x*y, sep='') #seperator"
   ]
  },
  {
   "cell_type": "code",
   "execution_count": null,
   "id": "a959a054-a150-4fe9-a0ed-2b413230c0ea",
   "metadata": {},
   "outputs": [],
   "source": [
    "print(1, 2, 3, 4, 5, sep=';') #\\n"
   ]
  },
  {
   "cell_type": "code",
   "execution_count": null,
   "id": "181f163d-f7c8-4bee-b400-dbcdf162f0ba",
   "metadata": {},
   "outputs": [],
   "source": [
    "print(1, 2, 3, 4, 5)"
   ]
  },
  {
   "cell_type": "code",
   "execution_count": null,
   "id": "f8f878f6-afb6-4522-a9fe-c7ddb0bd1ecd",
   "metadata": {},
   "outputs": [],
   "source": [
    "print(1,3)"
   ]
  },
  {
   "cell_type": "code",
   "execution_count": null,
   "id": "1763fde2-c4ff-45be-96e8-01812931fe0f",
   "metadata": {},
   "outputs": [],
   "source": [
    "print(1, end='\\n')\n",
    "print(3)"
   ]
  },
  {
   "cell_type": "code",
   "execution_count": null,
   "id": "9a3299f0-50d3-43cc-ae5f-420c6b69ca51",
   "metadata": {},
   "outputs": [],
   "source": [
    "print(1, end='#')\n",
    "print(2)"
   ]
  },
  {
   "cell_type": "code",
   "execution_count": null,
   "id": "61fbeb97-6de4-4674-b24b-2ec67557bfb4",
   "metadata": {},
   "outputs": [],
   "source": [
    "print(1)\n",
    "print()\n",
    "print(2)"
   ]
  },
  {
   "cell_type": "code",
   "execution_count": null,
   "id": "f3b3285d-a531-4e73-b005-850f0e651e3c",
   "metadata": {},
   "outputs": [],
   "source": [
    "print(1, end='\\n') # by default\n",
    "print(2)"
   ]
  },
  {
   "cell_type": "code",
   "execution_count": null,
   "id": "1d7d4a22-0cf5-48be-ad0b-8bf392138403",
   "metadata": {},
   "outputs": [],
   "source": [
    "print(1,'\\n',3, sep='')"
   ]
  },
  {
   "cell_type": "code",
   "execution_count": 4,
   "id": "fc0be6e6-e671-46c9-95ec-56098b7cc355",
   "metadata": {},
   "outputs": [
    {
     "name": "stdin",
     "output_type": "stream",
     "text": [
      " 12a\n"
     ]
    }
   ],
   "source": [
    "x5 = input()"
   ]
  },
  {
   "cell_type": "code",
   "execution_count": 5,
   "id": "8df6b708-0511-4338-b727-6b7749f6383d",
   "metadata": {},
   "outputs": [
    {
     "data": {
      "text/plain": [
       "'12a'"
      ]
     },
     "execution_count": 5,
     "metadata": {},
     "output_type": "execute_result"
    }
   ],
   "source": [
    "x5"
   ]
  },
  {
   "cell_type": "code",
   "execution_count": 9,
   "id": "d905445d-739c-4b6d-be7d-1f942d831de9",
   "metadata": {},
   "outputs": [],
   "source": [
    "z = 12"
   ]
  },
  {
   "cell_type": "code",
   "execution_count": 10,
   "id": "7174c77a-52fd-4063-99af-b3e2ae46bc6b",
   "metadata": {},
   "outputs": [
    {
     "name": "stdin",
     "output_type": "stream",
     "text": [
      " 1a\n"
     ]
    }
   ],
   "source": [
    "z =input()"
   ]
  },
  {
   "cell_type": "code",
   "execution_count": 11,
   "id": "b97bb905-ee8c-4b30-a0a0-9babc300702f",
   "metadata": {},
   "outputs": [
    {
     "data": {
      "text/plain": [
       "'1a'"
      ]
     },
     "execution_count": 11,
     "metadata": {},
     "output_type": "execute_result"
    }
   ],
   "source": [
    "z"
   ]
  },
  {
   "cell_type": "code",
   "execution_count": 14,
   "id": "6dd14828-22d6-4c30-9f34-852151438d82",
   "metadata": {},
   "outputs": [
    {
     "name": "stdin",
     "output_type": "stream",
     "text": [
      "Enter a digit: 12\n"
     ]
    }
   ],
   "source": [
    "x3 = input('Enter a digit:')"
   ]
  },
  {
   "cell_type": "code",
   "execution_count": 17,
   "id": "1e6adc1e-0426-48e2-b30e-9c8aae4f5d21",
   "metadata": {},
   "outputs": [],
   "source": [
    "x3= int(x3)"
   ]
  },
  {
   "cell_type": "code",
   "execution_count": 18,
   "id": "ff956ce6-05e6-4328-a1f8-b4931c01ecde",
   "metadata": {},
   "outputs": [
    {
     "name": "stdout",
     "output_type": "stream",
     "text": [
      "2*x3= 24\n"
     ]
    }
   ],
   "source": [
    "print('2*x3='\n",
    "      ,2*x3)"
   ]
  },
  {
   "cell_type": "code",
   "execution_count": 19,
   "id": "e5ef25de-de7c-47d6-8b9a-f672e0e9ad5e",
   "metadata": {},
   "outputs": [
    {
     "name": "stdin",
     "output_type": "stream",
     "text": [
      "Enter a digit: 37\n"
     ]
    },
    {
     "name": "stdout",
     "output_type": "stream",
     "text": [
      "2*x= 74\n"
     ]
    }
   ],
   "source": [
    "x = int(input('Enter a digit:'))\n",
    "print('2*x=',2*x)"
   ]
  },
  {
   "cell_type": "code",
   "execution_count": 20,
   "id": "f10ec8fb-e481-4e74-bc1e-8788c64edf11",
   "metadata": {},
   "outputs": [
    {
     "name": "stdout",
     "output_type": "stream",
     "text": [
      "Python is awesome\n"
     ]
    }
   ],
   "source": [
    "x = \"Python \"\n",
    "y = \"is \"\n",
    "z = \"awesome\"\n",
    "print(x + y + z)"
   ]
  },
  {
   "cell_type": "code",
   "execution_count": 24,
   "id": "c9c9612e-5305-4708-a71d-933d225c1f5f",
   "metadata": {},
   "outputs": [
    {
     "ename": "SyntaxError",
     "evalue": "unterminated string literal (detected at line 1) (3812874431.py, line 1)",
     "output_type": "error",
     "traceback": [
      "\u001b[1;36m  Cell \u001b[1;32mIn[24], line 1\u001b[1;36m\u001b[0m\n\u001b[1;33m    x = \"5'\u001b[0m\n\u001b[1;37m        ^\u001b[0m\n\u001b[1;31mSyntaxError\u001b[0m\u001b[1;31m:\u001b[0m unterminated string literal (detected at line 1)\n"
     ]
    }
   ],
   "source": [
    "x = \"5\"\n",
    "y = \"John\"\n",
    "print(x + y)"
   ]
  },
  {
   "cell_type": "markdown",
   "id": "8fe8350c-b7a0-4939-ad53-98942057bc5c",
   "metadata": {
    "jp-MarkdownHeadingCollapsed": true
   },
   "source": [
    "<div dir=\"rtl\" style=\"text-align:center; font-family: 'B Nazanin'; font-size: 24px;\">\n",
    "    <div class=\"alert alert-block alert-info\">\n",
    "        <h1>» Chapter Four: Data Types «</h1>\n",
    "       <p>Three Session</p>\n",
    "\n",
    "</div>\n"
   ]
  },
  {
   "cell_type": "markdown",
   "id": "858a24fa-dd47-4ce6-925b-02e7a5177e2d",
   "metadata": {
    "editable": true,
    "jp-MarkdownHeadingCollapsed": true,
    "slideshow": {
     "slide_type": ""
    },
    "tags": []
   },
   "source": [
    "# Built-in Data Types"
   ]
  },
  {
   "cell_type": "markdown",
   "id": "15341e63-553d-4372-8be2-86e02ac63e3c",
   "metadata": {
    "editable": true,
    "slideshow": {
     "slide_type": ""
    },
    "tags": []
   },
   "source": [
    "* Text Type:\t`str`\n",
    "* Numeric Types:\t`int`, `float`, `complex`\n",
    "* Sequence Types:\t`list`, `tuple`, `range`\n",
    "* Mapping Type:\t`dict`\n",
    "* Set Types:\t`set`, `frozenset`\n",
    "* Boolean Type:\t`bool`\n",
    "* Binary Types:\t`bytes`, `bytearray`, `memoryview`\n",
    "* None Type:\t`NoneType`"
   ]
  },
  {
   "cell_type": "code",
   "execution_count": 11,
   "id": "7a5fb2f7-8113-4ac3-abd7-73efb6eae4be",
   "metadata": {
    "editable": true,
    "slideshow": {
     "slide_type": ""
    },
    "tags": [
     "a"
    ]
   },
   "outputs": [],
   "source": [
    "x = \"Hello World\"\t#str\n",
    "x = str(\"Hello World\")"
   ]
  },
  {
   "cell_type": "code",
   "execution_count": null,
   "id": "5d4c377a-d6c1-45f6-b031-d9015249c0e7",
   "metadata": {},
   "outputs": [],
   "source": [
    "x = 20\t#int\n",
    "x = int(20)"
   ]
  },
  {
   "cell_type": "code",
   "execution_count": null,
   "id": "d5c51265-3066-4b24-8c48-a171ef8bd55f",
   "metadata": {},
   "outputs": [],
   "source": [
    "x = 20.5\t#float\n",
    "x = float(20.5)"
   ]
  },
  {
   "cell_type": "code",
   "execution_count": null,
   "id": "a204992c-6731-4416-9553-d8aa1bded71e",
   "metadata": {},
   "outputs": [],
   "source": [
    "x = 1j\t#complex\n",
    "x = complex(1j)"
   ]
  },
  {
   "cell_type": "code",
   "execution_count": null,
   "id": "ef6b03f4-fa85-4251-8803-aa3c90fa88fe",
   "metadata": {},
   "outputs": [],
   "source": [
    "x = [\"apple\", \"banana\", \"cherry\"]\t#list\n",
    "x = list((\"apple\", \"banana\", \"cherry\"))"
   ]
  },
  {
   "cell_type": "code",
   "execution_count": null,
   "id": "9efeec18-d333-42b9-ac01-f136b2bc8404",
   "metadata": {},
   "outputs": [],
   "source": [
    "x = (\"apple\", \"banana\", \"cherry\")\t#tuple\t\n",
    "x = tuple((\"apple\", \"banana\", \"cherry\"))"
   ]
  },
  {
   "cell_type": "code",
   "execution_count": 36,
   "id": "ede7622d-dec4-492a-bbcd-4cd5183549d8",
   "metadata": {},
   "outputs": [],
   "source": [
    "x = range(6)\t#range\t\n",
    "x = range(6)"
   ]
  },
  {
   "cell_type": "code",
   "execution_count": 37,
   "id": "443d082c-cb26-48f2-b149-b3133370bcf9",
   "metadata": {},
   "outputs": [
    {
     "data": {
      "text/plain": [
       "range(0, 6)"
      ]
     },
     "execution_count": 37,
     "metadata": {},
     "output_type": "execute_result"
    }
   ],
   "source": [
    "x"
   ]
  },
  {
   "cell_type": "code",
   "execution_count": null,
   "id": "c2c4ddd5-fa9d-44a2-911e-b8fc41a3026f",
   "metadata": {},
   "outputs": [],
   "source": [
    "x = {\"name\" : \"John\", \"age\" : 36}\t#dict\t\n",
    "x = dict(name=\"John\", age=36)"
   ]
  },
  {
   "cell_type": "code",
   "execution_count": null,
   "id": "968deaf0-ac3c-479c-ab74-d68a56ab5b93",
   "metadata": {},
   "outputs": [],
   "source": [
    "x = {\"apple\", \"banana\", \"cherry\"}\t#set\n",
    "x = set((\"apple\", \"banana\", \"cherry\"))\t"
   ]
  },
  {
   "cell_type": "code",
   "execution_count": null,
   "id": "28f9e903-d18f-4e9d-a852-cf9ce6c371eb",
   "metadata": {},
   "outputs": [],
   "source": [
    "x = frozenset({\"apple\", \"banana\", \"cherry\"})\t#frozenset\t\n",
    "x = frozenset((\"apple\", \"banana\", \"cherry\"))"
   ]
  },
  {
   "cell_type": "code",
   "execution_count": 38,
   "id": "4420780d-1b6d-4588-8305-344548e50ee9",
   "metadata": {},
   "outputs": [],
   "source": [
    "x = True\t#bool\t\n",
    "x = bool(5)"
   ]
  },
  {
   "cell_type": "code",
   "execution_count": 39,
   "id": "0cbcbc65-b2fe-4d6f-b502-bcf624ea9366",
   "metadata": {},
   "outputs": [
    {
     "data": {
      "text/plain": [
       "True"
      ]
     },
     "execution_count": 39,
     "metadata": {},
     "output_type": "execute_result"
    }
   ],
   "source": [
    "x"
   ]
  },
  {
   "cell_type": "code",
   "execution_count": 47,
   "id": "1e230381-f138-4bf4-8e3e-bc25d9eff1a0",
   "metadata": {},
   "outputs": [],
   "source": [
    "x = b\"Hello\"\t#bytes\t\n",
    "x = bytes(9)"
   ]
  },
  {
   "cell_type": "code",
   "execution_count": 48,
   "id": "e4f92c39-5fdd-4f79-8a86-bd23b15b289c",
   "metadata": {},
   "outputs": [
    {
     "data": {
      "text/plain": [
       "b'\\x00\\x00\\x00\\x00\\x00\\x00\\x00\\x00\\x00'"
      ]
     },
     "execution_count": 48,
     "metadata": {},
     "output_type": "execute_result"
    }
   ],
   "source": [
    "x"
   ]
  },
  {
   "cell_type": "code",
   "execution_count": 42,
   "id": "8f9aa935-01b9-4383-9ddd-b0d1fa35baf0",
   "metadata": {},
   "outputs": [],
   "source": [
    "x = bytearray(5)\t#bytearray\t\n",
    "x = bytearray(5)"
   ]
  },
  {
   "cell_type": "code",
   "execution_count": 43,
   "id": "77844828-89c4-4fa2-8546-aacb3bd3795d",
   "metadata": {},
   "outputs": [
    {
     "data": {
      "text/plain": [
       "bytearray(b'\\x00\\x00\\x00\\x00\\x00')"
      ]
     },
     "execution_count": 43,
     "metadata": {},
     "output_type": "execute_result"
    }
   ],
   "source": [
    "x"
   ]
  },
  {
   "cell_type": "code",
   "execution_count": 44,
   "id": "4b880c91-6020-49b0-bef8-932fbf9170ff",
   "metadata": {},
   "outputs": [],
   "source": [
    "x = memoryview(bytes(5))\t#memoryview\t\n",
    "x = memoryview(bytes(5))"
   ]
  },
  {
   "cell_type": "code",
   "execution_count": 45,
   "id": "4b1b222d-ac7a-4d66-afb8-02de37e46634",
   "metadata": {},
   "outputs": [
    {
     "data": {
      "text/plain": [
       "<memory at 0x000001C2CFF08880>"
      ]
     },
     "execution_count": 45,
     "metadata": {},
     "output_type": "execute_result"
    }
   ],
   "source": [
    "x"
   ]
  },
  {
   "cell_type": "code",
   "execution_count": 46,
   "id": "38406257-989d-49ee-936d-708a94176e84",
   "metadata": {},
   "outputs": [],
   "source": [
    "x = None\t#NoneType\t"
   ]
  },
  {
   "cell_type": "markdown",
   "id": "70d33e79-b12e-4ca3-9de4-3e61176182c6",
   "metadata": {
    "jp-MarkdownHeadingCollapsed": true
   },
   "source": [
    "# Numbers"
   ]
  },
  {
   "cell_type": "markdown",
   "id": "3ebb4176-45e4-479b-9e31-458f5997dd29",
   "metadata": {},
   "source": [
    "- int\n",
    "  - or integer, is a whole number, positive or negative, without decimals, of unlimited length.\n",
    "- float\n",
    "  - or \"floating point number\" is a number, positive or negative, containing one or more decimals, unlimited length.\n",
    "- complex"
   ]
  },
  {
   "cell_type": "code",
   "execution_count": null,
   "id": "fd4a9043-5374-4968-8499-3994070196e0",
   "metadata": {},
   "outputs": [],
   "source": [
    "x = 1    # int\n",
    "y = 2.8  # float\n",
    "z = 1j   # complex"
   ]
  },
  {
   "cell_type": "code",
   "execution_count": null,
   "id": "8f9bfaf9-c907-41ef-9dc1-54b2f1db149b",
   "metadata": {},
   "outputs": [],
   "source": [
    "# Float can also be scientific numbers with an \"e\" to indicate the power of 10.\n",
    "z = -87.7e100"
   ]
  },
  {
   "cell_type": "code",
   "execution_count": null,
   "id": "65f57328-b8a2-4c00-ab7e-8a2a198d99c0",
   "metadata": {},
   "outputs": [],
   "source": [
    "# Type Conversion\n",
    "#int(), float(), and complex()"
   ]
  },
  {
   "cell_type": "code",
   "execution_count": null,
   "id": "6029961c-37aa-4d87-a6f9-d950553e1df1",
   "metadata": {},
   "outputs": [],
   "source": [
    "x = int(1)   # x will be 1\n",
    "y = int(2.8) # y will be 2\n",
    "z = int(\"3\") # z will be 3"
   ]
  },
  {
   "cell_type": "code",
   "execution_count": null,
   "id": "fecf169b-bc44-4577-869a-9baa09b44be5",
   "metadata": {},
   "outputs": [],
   "source": [
    "x = float(1)     # x will be 1.0\n",
    "y = float(2.8)   # y will be 2.8\n",
    "z = float(\"3\")   # z will be 3.0\n",
    "w = float(\"4.2\") # w will be 4.2"
   ]
  },
  {
   "cell_type": "code",
   "execution_count": null,
   "id": "664c9ded-b85d-44d0-8f16-e478009cf1d1",
   "metadata": {},
   "outputs": [],
   "source": [
    "x = str(\"s1\") # x will be 's1'\n",
    "y = str(2)    # y will be '2'\n",
    "z = str(3.0)  # z will be '3.0'"
   ]
  },
  {
   "cell_type": "markdown",
   "id": "1a4bf11e-69cb-4c5c-81ba-e4756b90b902",
   "metadata": {
    "jp-MarkdownHeadingCollapsed": true
   },
   "source": [
    "#### Random Number"
   ]
  },
  {
   "cell_type": "code",
   "execution_count": null,
   "id": "a2fcdf91-91e3-4ff0-8f4e-9c2b434da9ca",
   "metadata": {},
   "outputs": [],
   "source": [
    "import random\n",
    "print(random.randrange(1, 10))"
   ]
  },
  {
   "cell_type": "code",
   "execution_count": null,
   "id": "adf1db7d-6643-43a0-9792-1f1be3a94d97",
   "metadata": {},
   "outputs": [],
   "source": [
    "print(random.randint(1,10))"
   ]
  },
  {
   "cell_type": "code",
   "execution_count": null,
   "id": "8e0054db-49a0-428e-83cd-9590d45371eb",
   "metadata": {},
   "outputs": [],
   "source": [
    "print(random.random())"
   ]
  },
  {
   "cell_type": "code",
   "execution_count": null,
   "id": "42ec6dbe-a202-47c3-be54-75fa4bfd65bf",
   "metadata": {},
   "outputs": [],
   "source": [
    "import random\n",
    "\n",
    "# Generate a random range\n",
    "start = random.randint(0, 50)\n",
    "end = random.randint(start, 100)\n",
    "step = random.randint(1, 10)\n",
    "\n",
    "random_range = range(start, end, step)\n",
    "random_range_list = list(random_range)\n",
    "\n",
    "random_range_list"
   ]
  },
  {
   "cell_type": "markdown",
   "id": "82d314d6-9781-4f13-8f7f-0fb23ac8aeb2",
   "metadata": {},
   "source": [
    "##### Random Module"
   ]
  },
  {
   "cell_type": "code",
   "execution_count": null,
   "id": "ec89ebfc-240d-4656-96d9-12b2dbdff179",
   "metadata": {},
   "outputs": [],
   "source": [
    "# seed()\tInitialize the random number generator.\n",
    "import random\n",
    "\n",
    "random.seed(89)\n",
    "print(random.random())\n",
    "\n",
    "# By default the random number generator uses the current system time."
   ]
  },
  {
   "cell_type": "code",
   "execution_count": null,
   "id": "b3aa647d-5fd9-49de-9eb3-9543d1efaf37",
   "metadata": {},
   "outputs": [],
   "source": [
    "# If you use the same seed value twice you will get the same random number twice.\n",
    "import random\n",
    "\n",
    "random.seed(10)\n",
    "print(random.random())\n",
    "\n",
    "random.seed(10)\n",
    "print(random.random())"
   ]
  },
  {
   "cell_type": "code",
   "execution_count": null,
   "id": "66ac5aef-c4eb-45a1-a4a2-c6a91a223ab0",
   "metadata": {},
   "outputs": [],
   "source": [
    "# getstate()\tReturns the current internal state of the random number generator.\n",
    "import random\n",
    "\n",
    "print(random.getstate())"
   ]
  },
  {
   "cell_type": "code",
   "execution_count": null,
   "id": "aa86c3e7-69af-4e48-b67d-c3d7f4d3e56f",
   "metadata": {},
   "outputs": [],
   "source": [
    "# setstate()\tRestores the internal state of the random number generator.\n",
    "import random\n",
    "\n",
    "#print a random number:\n",
    "print(random.random())\n",
    "\n",
    "#capture the state:\n",
    "state = random.getstate()\n",
    "\n",
    "#print another random number:\n",
    "print(random.random())\n",
    "\n",
    "#restore the state:\n",
    "random.setstate(state)\n",
    "\n",
    "#and the next random number should be the same as when you captured the state:\n",
    "print(random.random())"
   ]
  },
  {
   "cell_type": "code",
   "execution_count": null,
   "id": "55ee3648-71a3-45dc-ab97-ff947db98ce5",
   "metadata": {},
   "outputs": [],
   "source": [
    "# getrandbits()\tReturns a number representing the random bits\n",
    "import random\n",
    "\n",
    "print(random.getrandbits(8))"
   ]
  },
  {
   "cell_type": "code",
   "execution_count": null,
   "id": "dd67d6c4-f5af-4f4b-a7f3-d2e61b68c776",
   "metadata": {},
   "outputs": [],
   "source": [
    "# randrange()\tReturns a random number between the given range.\n",
    "# random.randrange(start, stop, step)\n",
    "\n",
    "# start\tOptional. An integer specifying at which position to start.\n",
    "# Default 0\n",
    "# stop\tRequired. An integer specifying at which position to end.\n",
    "# step\tOptional. An integer specifying the incrementation.\n",
    "# Default 1\n",
    "\n",
    "import random\n",
    "\n",
    "print(random.randrange(3, 9))"
   ]
  },
  {
   "cell_type": "code",
   "execution_count": null,
   "id": "4641dae8-6c22-4212-bc36-7149a8b2e82f",
   "metadata": {},
   "outputs": [],
   "source": [
    "# randint()\tReturns a random number between the given range.\n",
    "#  This method is an alias for randrange(start, stop+1).\n",
    "import random\n",
    "\n",
    "print(random.randint(3, 9))\n"
   ]
  },
  {
   "cell_type": "code",
   "execution_count": null,
   "id": "b06f325c-a08a-454e-949a-763f51b04fbb",
   "metadata": {},
   "outputs": [],
   "source": [
    "# choice()\tReturns a random element from the given sequence.\n",
    "import random\n",
    "\n",
    "mylist = [\"apple\", \"banana\", \"cherry\"]\n",
    "\n",
    "print(random.choice(mylist))"
   ]
  },
  {
   "cell_type": "code",
   "execution_count": null,
   "id": "9ab766bd-43e6-474f-b1be-1ebc1c27af0d",
   "metadata": {},
   "outputs": [],
   "source": [
    "import random\n",
    "\n",
    "x = \"WELCOME\"\n",
    "\n",
    "print(random.choice(x))"
   ]
  },
  {
   "cell_type": "code",
   "execution_count": null,
   "id": "3b6e773e-734a-4039-86a9-a361b59a12c0",
   "metadata": {},
   "outputs": [],
   "source": [
    "# choices()\tReturns a list with a random selection from the given sequence.\n",
    "import random\n",
    "\n",
    "mylist = [\"apple\", \"banana\", \"cherry\"]\n",
    "\n",
    "print(random.choices(mylist, weights = [10, 1, 1], k = 14))\n",
    "\n",
    "# sequence\tRequired. A sequence like a list, a tuple, a range of numbers etc.\n",
    "# weights\tOptional. A list were you can weigh the possibility for each value.\n",
    "# Default None\n",
    "# cum_weights\tOptional. A list were you can weigh the possibility for each value, only this time the possibility is accumulated.\n",
    "# Example: normal weights list: [2, 1, 1] is the same as this cum_weights list; [2, 3, 4].\n",
    "# Default None\n",
    "# k\tOptional. An integer defining the length of the returned list"
   ]
  },
  {
   "cell_type": "code",
   "execution_count": null,
   "id": "3b15cfd6-0fd3-4afe-b040-765ac3d3305a",
   "metadata": {},
   "outputs": [],
   "source": [
    "# shuffle()\tTakes a sequence and returns the sequence in a random order\n",
    "import random\n",
    "\n",
    "mylist = [\"apple\", \"banana\", \"cherry\"]\n",
    "random.shuffle(mylist)\n",
    "\n",
    "print(mylist)\n",
    "\n",
    "#  This method changes the original list, it does not return a new list.\n"
   ]
  },
  {
   "cell_type": "code",
   "execution_count": null,
   "id": "9929d2bf-ad1d-47e6-b41e-22078ec103e4",
   "metadata": {},
   "outputs": [],
   "source": [
    "# sample()\tReturns a given sample of a sequence\n",
    "# Return a list that contains any 2 of the items from a list:\n",
    "\n",
    "import random\n",
    "\n",
    "mylist = [\"apple\", \"banana\", \"cherry\"]\n",
    "\n",
    "print(random.sample(mylist, k=2))\n",
    "\n",
    "# Note: This method does not change the original sequence.\n",
    "# Note: The specified number (k=2) cannot be longer than the length of the original sequence."
   ]
  },
  {
   "cell_type": "code",
   "execution_count": null,
   "id": "903708e6-9fbe-417f-90cf-f59e741e547b",
   "metadata": {},
   "outputs": [],
   "source": [
    "# random()\tReturns a random float number between 0 and 1\n",
    "\n",
    "# Return random number between 0.0 and 1.0:\n",
    "\n",
    "import random\n",
    "\n",
    "print(random.random())"
   ]
  },
  {
   "cell_type": "code",
   "execution_count": null,
   "id": "37dae619-3c62-42e4-a0e8-3ac540b70e02",
   "metadata": {},
   "outputs": [],
   "source": [
    "# uniform()\tReturns a random float number between two given parameters\n",
    "# Return a random number between, and included, 20 and 60:\n",
    "\n",
    "import random\n",
    "\n",
    "print(random.uniform(20, 60))"
   ]
  },
  {
   "cell_type": "code",
   "execution_count": null,
   "id": "1161fe82-a939-43ff-9ce4-8862b7745ca0",
   "metadata": {},
   "outputs": [],
   "source": [
    "# triangular()\tReturns a random float number between two given parameters,\n",
    "# you can also set a mode parameter to specify the midpoint between the two other parameters\n",
    "\n",
    "# Return a random number between, and included, 20 and 60, but most likely closer to 20:\n",
    "\n",
    "import random\n",
    "\n",
    "print(random.triangular(20, 60, 30))\n",
    "\n",
    "# The triangular() method returns a random floating number between the two specified numbers (both included), \n",
    "#but you can also specify a third parameter, the mode parameter.\n",
    "# The mode parameter gives you the opportunity to weigh the possible outcome closer to one of the other two parameter values.\n",
    "# The mode parameter defaults to the midpoint between the two other parameter values, which will not weigh the possible outcome in any direction.\n",
    "\n",
    "# random.triangular(low, high, mode)\n",
    "\n",
    "# low\tOptional. A number specifying the lowest possible outcome.\n",
    "# Default 0\n",
    "# high\tOptional. A number specifying the highest possible outcome.\n",
    "# Default 1\n",
    "# mode\tOptional. A number used to weigh the result in any direction.\n",
    "# Default the midpoint between the low and high values"
   ]
  },
  {
   "cell_type": "code",
   "execution_count": null,
   "id": "d1a7c1a0-1027-4fb7-896f-6c5277ab5a6e",
   "metadata": {},
   "outputs": [],
   "source": [
    "# betavariate()\tReturns a random float number between 0 and 1 based on the Beta distribution (used in statistics)\n",
    "# import the random module \n",
    "import random \n",
    "\n",
    "# determining the values of the parameters \n",
    "alpha = 5\n",
    "beta = 10\n",
    "\n",
    "# using the betavariate() method \n",
    "print(random.betavariate(alpha, beta)) "
   ]
  },
  {
   "cell_type": "code",
   "execution_count": null,
   "id": "b568aa86-5d2c-446a-a3cc-5ec78969f0a9",
   "metadata": {},
   "outputs": [],
   "source": [
    "# expovariate()\tReturns a random float number based on the Exponential distribution (used in statistics)\n",
    "\n",
    "# import the random module \n",
    "import random \n",
    "\n",
    "# determining the values of the parameter \n",
    "lambda = 1.5\n",
    "\n",
    "# using the expovariate() method \n",
    "print(random.expovariate(lambda)) "
   ]
  },
  {
   "cell_type": "code",
   "execution_count": null,
   "id": "ccf58f35-9051-46b8-acb6-b4f37162a945",
   "metadata": {},
   "outputs": [],
   "source": [
    "# gammavariate()\tReturns a random float number based on the Gamma distribution (used in statistics)\n",
    "# import the random module \n",
    "import random \n",
    "\n",
    "# determining the values of the parameter \n",
    "alpha = 100\n",
    "beta = 2\n",
    "\n",
    "# using the gammavariate() method \n",
    "print(random.gammavariate(alpha, beta)) \n"
   ]
  },
  {
   "cell_type": "code",
   "execution_count": null,
   "id": "c4bac748-ec76-44c3-98e6-6eff4574b38f",
   "metadata": {},
   "outputs": [],
   "source": [
    "# gauss()\tReturns a random float number based on the Gaussian distribution (used in probability theories)\n",
    "# import the random module \n",
    "import random \n",
    "\n",
    "# determining the values of the parameters \n",
    "mu = 100\n",
    "sigma = 50\n",
    "\n",
    "# using the gauss() method \n",
    "print(random.gauss(mu, sigma)) \n"
   ]
  },
  {
   "cell_type": "code",
   "execution_count": null,
   "id": "acc048cd-476b-42bb-808d-eb655b72cc10",
   "metadata": {},
   "outputs": [],
   "source": [
    "# lognormvariate()\tReturns a random float number based on a log-normal distribution (used in probability theories)\n",
    "# import the random module \n",
    "import random \n",
    "\n",
    "# determining the values of the parameters \n",
    "mu = 0\n",
    "sigma = 0.25\n",
    "\n",
    "# using the lognormvariate() method \n",
    "print(random.lognormvariate(mu, sigma)) \n"
   ]
  },
  {
   "cell_type": "code",
   "execution_count": null,
   "id": "082bd85d-7ac9-4bdf-8167-e7cbb84d25f9",
   "metadata": {},
   "outputs": [],
   "source": [
    "# normalvariate()\tReturns a random float number based on the normal distribution (used in probability theories)\n",
    "# import the random module \n",
    "import random \n",
    "\n",
    "# determining the values of the parameters \n",
    "mu = 100\n",
    "sigma = 50\n",
    "\n",
    "# using the normalvariate() method \n",
    "print(random.normalvariate(mu, sigma)) \n"
   ]
  },
  {
   "cell_type": "code",
   "execution_count": null,
   "id": "63a94ae1-0df3-4ebd-b345-d915f0640548",
   "metadata": {},
   "outputs": [],
   "source": [
    "# vonmisesvariate()\tReturns a random float number based on the von Mises distribution (used in directional statistics)\n",
    "# import the random module \n",
    "import random \n",
    "  \n",
    "# determining the values of the parameters \n",
    "mu = 0\n",
    "kappa = 4\n",
    "  \n",
    "# using the vonmisesvariate() method \n",
    "print(random.vonmisesvariate(mu, kappa))"
   ]
  },
  {
   "cell_type": "code",
   "execution_count": null,
   "id": "68427fdd-920b-4b98-9bae-8e742e9d340f",
   "metadata": {},
   "outputs": [],
   "source": [
    "# paretovariate()\tReturns a random float number based on the Pareto distribution (used in probability theories)\n",
    "# import the random module \n",
    "import random \n",
    "  \n",
    "# determining the values of the parameter \n",
    "alpha = 3\n",
    "  \n",
    "# using the paretovariate() method \n",
    "print(random.paretovariate(alpha)) "
   ]
  },
  {
   "cell_type": "code",
   "execution_count": null,
   "id": "a74dfa61-fecd-4179-b4c4-8e75e129e69a",
   "metadata": {},
   "outputs": [],
   "source": [
    "# weibullvariate()\tReturns a random float number based on the Weibull distribution (used in statistics).\n",
    "# import the random module \n",
    "import random \n",
    "  \n",
    "# determining the values of the parameters \n",
    "alpha = 1\n",
    "beta = 1.5\n",
    "  \n",
    "# using the weibullvariate() method \n",
    "print(random.weibullvariate(alpha, beta)) "
   ]
  },
  {
   "cell_type": "code",
   "execution_count": null,
   "id": "4ca0ad26-e910-468c-9483-c7f1c20e1851",
   "metadata": {},
   "outputs": [],
   "source": []
  },
  {
   "cell_type": "code",
   "execution_count": null,
   "id": "1c04a1c4-f465-47c8-be55-3ad6fccea1d1",
   "metadata": {},
   "outputs": [],
   "source": []
  },
  {
   "cell_type": "markdown",
   "id": "3d85b68f-cb28-479c-9fd9-66764b7e230e",
   "metadata": {
    "jp-MarkdownHeadingCollapsed": true
   },
   "source": [
    "# strings"
   ]
  },
  {
   "cell_type": "code",
   "execution_count": 12,
   "id": "28b26f8d-c233-4045-8ec9-0201ac51f021",
   "metadata": {},
   "outputs": [
    {
     "name": "stdout",
     "output_type": "stream",
     "text": [
      "It's alright\n",
      "He is called 'Johnny'\n",
      "He is called \"Johnny\"\n"
     ]
    }
   ],
   "source": [
    "print(\"It's alright\")\n",
    "print(\"He is called 'Johnny'\")\n",
    "print('He is called \"Johnny\"')"
   ]
  },
  {
   "cell_type": "code",
   "execution_count": 14,
   "id": "8d7f2368-2c40-4d07-9bd4-37aafef50799",
   "metadata": {},
   "outputs": [
    {
     "name": "stdout",
     "output_type": "stream",
     "text": [
      "Lorem ipsum dolor sit amet,\n",
      "consectetur adipiscing elit,\n",
      "sed do eiusmod tempor incididunt\n",
      "ut labore et dolore magna aliqua.\n"
     ]
    }
   ],
   "source": [
    "# Multiline Strings.\n",
    "# the line breaks are inserted at the same position as in the code.\n",
    "a = \"\"\"Lorem ipsum dolor sit amet,\n",
    "consectetur adipiscing elit,\n",
    "sed do eiusmod tempor incididunt\n",
    "ut labore et dolore magna aliqua.\"\"\"\n",
    "print(a)"
   ]
  },
  {
   "cell_type": "code",
   "execution_count": null,
   "id": "3a3f84da-f0ab-4f31-8359-ceba86d122ad",
   "metadata": {},
   "outputs": [],
   "source": []
  },
  {
   "cell_type": "markdown",
   "id": "e2f57a66-6a7e-47cf-8f34-9aa4a7555cdf",
   "metadata": {
    "jp-MarkdownHeadingCollapsed": true
   },
   "source": [
    "### Strings are Arrays"
   ]
  },
  {
   "cell_type": "code",
   "execution_count": null,
   "id": "c3a88614-5eb8-4264-8414-56813d1918ec",
   "metadata": {},
   "outputs": [],
   "source": [
    "# Like many other popular programming languages, strings in Python are arrays of bytes representing unicode characters.\n",
    "# However, Python does not have a character data type, a single character is simply a string with a length of 1.\n",
    "\n",
    "a = \"Hello, World!\"\n",
    "print(a[4])"
   ]
  },
  {
   "cell_type": "markdown",
   "id": "116bba46-b50f-4e32-a9d3-e1961335c83b",
   "metadata": {
    "jp-MarkdownHeadingCollapsed": true
   },
   "source": [
    "### Looping Through a String"
   ]
  },
  {
   "cell_type": "code",
   "execution_count": null,
   "id": "53f312a5-6304-4bd1-962c-e712f908dbe5",
   "metadata": {},
   "outputs": [],
   "source": [
    "for x in \"banana\":\n",
    "  print(x)"
   ]
  },
  {
   "cell_type": "code",
   "execution_count": null,
   "id": "4fb21a0e-2221-4f3e-88a1-987843e1b44b",
   "metadata": {},
   "outputs": [],
   "source": [
    "a = \"Hello, World!\"\n",
    "print(len(a))"
   ]
  },
  {
   "cell_type": "code",
   "execution_count": null,
   "id": "abb3264c-a911-4090-a458-149b57152c76",
   "metadata": {},
   "outputs": [],
   "source": [
    "txt = \"The best things in life are free!\"\n",
    "if \"free\" in txt:\n",
    "  print(\"Yes, 'free' is present.\")"
   ]
  },
  {
   "cell_type": "code",
   "execution_count": null,
   "id": "eb9d724e-ea2d-4c78-a193-a0f4c1d7c168",
   "metadata": {},
   "outputs": [],
   "source": [
    "txt = \"The best things in life are free!\"\n",
    "if \"expensive\" not in txt:\n",
    "  print(\"No, 'expensive' is NOT present.\")"
   ]
  },
  {
   "cell_type": "markdown",
   "id": "eeba7b73-4215-48c3-9bfc-334a373fa7c1",
   "metadata": {
    "jp-MarkdownHeadingCollapsed": true
   },
   "source": [
    "### Slicing"
   ]
  },
  {
   "cell_type": "code",
   "execution_count": null,
   "id": "f1c86d2b-e150-499f-906b-b2d3204ad757",
   "metadata": {},
   "outputs": [],
   "source": [
    "# Slicing\n",
    "b = \"Hello, World!\"\n",
    "print(b[2:5])"
   ]
  },
  {
   "cell_type": "code",
   "execution_count": null,
   "id": "fb210b28-e4b6-4d34-a553-90ff76707317",
   "metadata": {},
   "outputs": [],
   "source": [
    "b = \"Hello, World!\"\n",
    "print(b[:5])"
   ]
  },
  {
   "cell_type": "code",
   "execution_count": null,
   "id": "35f414e9-c5a8-4635-90b4-0cc6b3b0ee3f",
   "metadata": {},
   "outputs": [],
   "source": [
    "b = \"Hello, World!\"\n",
    "print(b[2:])"
   ]
  },
  {
   "cell_type": "code",
   "execution_count": null,
   "id": "29812f99-c3e8-48b8-abdc-200b1c65f671",
   "metadata": {},
   "outputs": [],
   "source": [
    "b = \"Hello, World!\"\n",
    "print(b[-5:-2])"
   ]
  },
  {
   "cell_type": "markdown",
   "id": "63b906ec-6b71-4ba2-87ec-0114ef7524ca",
   "metadata": {
    "jp-MarkdownHeadingCollapsed": true
   },
   "source": [
    "### Modify"
   ]
  },
  {
   "cell_type": "code",
   "execution_count": null,
   "id": "879c514f-f450-47e8-9cfc-b0fa4e625f27",
   "metadata": {},
   "outputs": [],
   "source": [
    "a = \"Hello, World!\"\n",
    "print(a.upper())"
   ]
  },
  {
   "cell_type": "code",
   "execution_count": null,
   "id": "e42dc921-9aa4-4df2-a1ce-c5e133296897",
   "metadata": {},
   "outputs": [],
   "source": [
    "a = \"Hello, World!\"\n",
    "print(a.lower())"
   ]
  },
  {
   "cell_type": "code",
   "execution_count": null,
   "id": "e3768cd5-c068-4643-abb7-5e39482ca8fc",
   "metadata": {},
   "outputs": [],
   "source": [
    "a = \"     Hello, World! \"\n",
    "print(a.strip()) # returns \"Hello, World!\""
   ]
  },
  {
   "cell_type": "code",
   "execution_count": null,
   "id": "bcfbd324-81d8-49f7-b9b8-136e7934113e",
   "metadata": {},
   "outputs": [],
   "source": [
    "a = \"Hello, World!\"\n",
    "print(a.replace(\"H\", \"J\"))"
   ]
  },
  {
   "cell_type": "code",
   "execution_count": null,
   "id": "b7f59040-77c1-4a6b-ad88-a876144b9b97",
   "metadata": {},
   "outputs": [],
   "source": [
    "a = \"Hello, World!\"\n",
    "print(a.split(\",\")) # returns ['Hello', ' World!']"
   ]
  },
  {
   "cell_type": "markdown",
   "id": "73f1639c-7225-4306-a1d2-ae0d7884fa27",
   "metadata": {
    "jp-MarkdownHeadingCollapsed": true
   },
   "source": [
    "### String Concatenation"
   ]
  },
  {
   "cell_type": "code",
   "execution_count": null,
   "id": "8a82b353-5d8f-4514-bfbd-92b0687d1283",
   "metadata": {},
   "outputs": [],
   "source": [
    "a = \"Hello\"\n",
    "b = \"World\"\n",
    "c = a + b\n",
    "print(c)"
   ]
  },
  {
   "cell_type": "code",
   "execution_count": null,
   "id": "12c0a738-b6fc-46bd-ad35-b3fcc920d0f2",
   "metadata": {},
   "outputs": [],
   "source": [
    "a = \"Hello\"\n",
    "b = \"World\"\n",
    "c = a + \" \" + b\n",
    "print(c)"
   ]
  },
  {
   "cell_type": "markdown",
   "id": "bcba5610-4090-446e-98b6-22fe4b3cc6d8",
   "metadata": {
    "jp-MarkdownHeadingCollapsed": true
   },
   "source": [
    "### String Format"
   ]
  },
  {
   "cell_type": "code",
   "execution_count": null,
   "id": "81cd8157-bc94-403c-9383-ac2fad5b6689",
   "metadata": {},
   "outputs": [],
   "source": [
    "age = 36\n",
    "txt = \"My name is John, I am \" + age\n",
    "print(txt)"
   ]
  },
  {
   "cell_type": "code",
   "execution_count": null,
   "id": "09a07c4d-04ed-412c-a8be-b0b5e6962231",
   "metadata": {},
   "outputs": [],
   "source": [
    "# F-Strings\n",
    "age = 36\n",
    "txt = f\"My name is John, I am {age}\"\n",
    "print(txt)"
   ]
  },
  {
   "cell_type": "code",
   "execution_count": null,
   "id": "b890a82b-249f-4967-8073-8a9254d22d6e",
   "metadata": {},
   "outputs": [],
   "source": [
    "#A placeholder can include a modifier to format the value.\n",
    "#A modifier is included by adding a colon : followed by a legal formatting type,\n",
    "#like .2f which means fixed point number with 2 decimals:\n",
    "\n",
    "price = 59\n",
    "txt = f\"The price is {price:.2f} dollars\"\n",
    "print(txt)"
   ]
  },
  {
   "cell_type": "code",
   "execution_count": null,
   "id": "77182b47-137d-4848-a19d-46446c2cefcc",
   "metadata": {},
   "outputs": [],
   "source": [
    "txt = f\"The price is {20 * 59} dollars\"\n",
    "print(txt)"
   ]
  },
  {
   "cell_type": "markdown",
   "id": "27ad9fbc-7e21-4168-b95c-eef64d192f0f",
   "metadata": {
    "jp-MarkdownHeadingCollapsed": true
   },
   "source": [
    "### Escape Character"
   ]
  },
  {
   "attachments": {
    "8001fb57-d09e-46d1-a909-ae2d102d96f6.PNG": {
     "image/png": "[encoded data removed]"
    }
   },
   "cell_type": "markdown",
   "id": "ef8dd5bb-6cff-4cbf-b736-5d746e11dfe9",
   "metadata": {},
   "source": [
    "![Captur111111e.PNG](attachment:8001fb57-d09e-46d1-a909-ae2d102d96f6.PNG)"
   ]
  },
  {
   "cell_type": "code",
   "execution_count": null,
   "id": "8ff029bf-9b1f-4014-8cdb-a91ebf783837",
   "metadata": {},
   "outputs": [],
   "source": [
    "# To insert characters that are illegal in a string, use an escape character.\n",
    "# An escape character is a backslash \\ followed by the character you want to insert.\n",
    "txt = \"We are the so-called \"Vikings\" from the north.\""
   ]
  },
  {
   "cell_type": "code",
   "execution_count": null,
   "id": "32ce31ae-5278-455c-ac8c-aec4b24dec81",
   "metadata": {},
   "outputs": [],
   "source": [
    "txt = \"We are the so-called \\\"Vikings\\\" from the north.\"\n",
    "txt"
   ]
  },
  {
   "cell_type": "code",
   "execution_count": null,
   "id": "4ca0857b-a71f-470e-a8e4-304a25d1633a",
   "metadata": {},
   "outputs": [],
   "source": [
    "txt = 'It\\'s alright.'\n",
    "print(txt) "
   ]
  },
  {
   "cell_type": "code",
   "execution_count": null,
   "id": "5e0743e1-41d6-4d1a-a3db-fe535c1b313a",
   "metadata": {},
   "outputs": [],
   "source": [
    "txt = \"This will insert one \\\\ (backslash).\"\n",
    "print(txt) "
   ]
  },
  {
   "cell_type": "code",
   "execution_count": null,
   "id": "db4afe10-8096-4a28-bbea-194df4bf3ca8",
   "metadata": {},
   "outputs": [],
   "source": [
    "txt = \"Hello\\nWorld!\"\n",
    "print(txt)"
   ]
  },
  {
   "cell_type": "code",
   "execution_count": null,
   "id": "e90fcaaf-0b51-4da8-95cf-7f6454f91020",
   "metadata": {},
   "outputs": [],
   "source": [
    "txt = \"Hello\\tWorld!\"\n",
    "print(txt) "
   ]
  },
  {
   "cell_type": "code",
   "execution_count": null,
   "id": "1584135f-f8bd-468c-b31d-b3c9af7a1442",
   "metadata": {},
   "outputs": [],
   "source": [
    "#This example erases one character (backspace):\n",
    "txt = \"Hello \\bWorld!\"\n",
    "print(txt) "
   ]
  },
  {
   "cell_type": "code",
   "execution_count": null,
   "id": "96158b5d-6742-4ac0-aa1c-cd7b9ae72f98",
   "metadata": {},
   "outputs": [],
   "source": [
    "# Carriage Return\n",
    "txt = \"Hello\\rWorld!\"\n",
    "print(txt)"
   ]
  },
  {
   "cell_type": "code",
   "execution_count": null,
   "id": "904c6a1f-fbc9-4271-9975-bfc3a7817577",
   "metadata": {},
   "outputs": [],
   "source": [
    "#A backslash followed by three integers will result in a octal value:\n",
    "txt = \"\\110\\145\\154\\154\\157\"\n",
    "print(txt) "
   ]
  },
  {
   "cell_type": "code",
   "execution_count": null,
   "id": "33cdf3d6-e067-4d39-a51e-c903a897c3e7",
   "metadata": {},
   "outputs": [],
   "source": [
    "#A backslash followed by an 'x' and a hex number represents a hex value:\n",
    "txt = \"\\x48\\x65\\x6c\\x6c\\x6f\"\n",
    "print(txt) "
   ]
  },
  {
   "cell_type": "markdown",
   "id": "b9cf71cc-a781-4362-aaf0-98dce0fc0100",
   "metadata": {
    "jp-MarkdownHeadingCollapsed": true
   },
   "source": [
    "### String Methods"
   ]
  },
  {
   "cell_type": "code",
   "execution_count": null,
   "id": "c455f671-fc50-4e2e-a64f-d9eddd648d26",
   "metadata": {},
   "outputs": [],
   "source": [
    "# Converts the first character to upper case\n",
    "# capitalize()\tConverts the first character to upper case\n",
    "txt = \"hello, and welcome to my world.\"\n",
    "\n",
    "x = txt.capitalize()\n",
    "\n",
    "print (x)"
   ]
  },
  {
   "cell_type": "code",
   "execution_count": null,
   "id": "95c6ea24-fa94-4dd9-8aae-fa4c78d2f1f3",
   "metadata": {},
   "outputs": [],
   "source": [
    "txt = \"36 is my age.\"\n",
    "\n",
    "x = txt.capitalize()\n",
    "\n",
    "print (x)"
   ]
  },
  {
   "cell_type": "code",
   "execution_count": null,
   "id": "233d8ea8-3322-4e69-b650-9e5f140bc31f",
   "metadata": {},
   "outputs": [],
   "source": [
    "# Converts string into lower case. like lower() but more powerfull.\n",
    "# casefold()\tConverts string into lower case\n",
    "txt = \"Hello, And Welcome To My World!\"\n",
    "\n",
    "x = txt.casefold()\n",
    "\n",
    "print(x)"
   ]
  },
  {
   "cell_type": "code",
   "execution_count": null,
   "id": "769d3aad-f0f0-4830-a0c5-0448c65aafb5",
   "metadata": {},
   "outputs": [],
   "source": [
    "# Returns a centered string.\n",
    "txt = \"banana\"\n",
    "\n",
    "x = txt.center(20,'-')\n",
    "\n",
    "print(x)"
   ]
  },
  {
   "cell_type": "code",
   "execution_count": null,
   "id": "b500a8c8-9487-4a9a-beea-953b4f7faf9a",
   "metadata": {},
   "outputs": [],
   "source": [
    "# Returns the number of times a specified value occurs in a string.\n",
    "txt = \"I love apples, apple are my favorite fruit\"\n",
    "\n",
    "x = txt.count(\"apple\")\n",
    "\n",
    "print(x)\n",
    "\n",
    "\n",
    "# string.count(value, start, end)\n",
    "# value\tRequired. A String. The string to value to search for\n",
    "# start\tOptional. An Integer. The position to start the search. Default is 0\n",
    "# end\tOptional. An Integer. The position to end the search. Default is the end of the string\n",
    "\n",
    "txt = \"I love apples, apple are my favorite fruit\"\n",
    "\n",
    "x = txt.count(\"apple\", 10, 24)\n",
    "\n",
    "print(x)"
   ]
  },
  {
   "cell_type": "code",
   "execution_count": null,
   "id": "9aa91f09-a780-4ddf-a5ec-aa0fcfcf569f",
   "metadata": {},
   "outputs": [],
   "source": [
    "# encode()\tReturns an encoded version of the string.\n",
    "# UTF-8 encode the string:\n",
    "\n",
    "txt = \"My name is Ståle\"\n",
    "\n",
    "x = txt.encode()\n",
    "\n",
    "print(x)\n",
    "\n",
    "# string.encode(encoding=encoding, errors=errors)\n",
    "\n"
   ]
  },
  {
   "cell_type": "code",
   "execution_count": null,
   "id": "8519606a-05c7-41d8-910f-3ca06007bf34",
   "metadata": {},
   "outputs": [],
   "source": [
    "txt = \"My name is Ståle\"\n",
    "\n",
    "print(txt.encode(encoding=\"ascii\",errors=\"backslashreplace\"))\n",
    "print(txt.encode(encoding=\"ascii\",errors=\"ignore\"))\n",
    "print(txt.encode(encoding=\"ascii\",errors=\"namereplace\"))\n",
    "print(txt.encode(encoding=\"ascii\",errors=\"replace\"))\n",
    "print(txt.encode(encoding=\"ascii\",errors=\"xmlcharrefreplace\"))"
   ]
  },
  {
   "attachments": {
    "f00aaa65-2353-497d-843c-64b7a6162b40.PNG": {
     "image/png": "[encoded data removed]"
    }
   },
   "cell_type": "markdown",
   "id": "aa8de524-ba14-4461-b1f4-424dd40eadc2",
   "metadata": {},
   "source": [
    "![fgdf.PNG](attachment:f00aaa65-2353-497d-843c-64b7a6162b40.PNG)"
   ]
  },
  {
   "cell_type": "code",
   "execution_count": null,
   "id": "effea244-0639-448b-8fa2-5c8349ba566e",
   "metadata": {},
   "outputs": [],
   "source": [
    "# endswith()\tReturns true if the string ends with the specified value.\n",
    "txt = \"Hello, welcome to my world.\"\n",
    "\n",
    "x = txt.endswith(\".\")\n",
    "\n",
    "print(x)"
   ]
  },
  {
   "cell_type": "code",
   "execution_count": null,
   "id": "ec0db2d6-4efb-4bca-824d-811d4e473bb9",
   "metadata": {},
   "outputs": [],
   "source": [
    "# string.endswith(value, start, end)\n",
    "\n",
    "# value\tRequired. The value to check if the string ends with\n",
    "# start\tOptional. An Integer specifying at which position to start the search\n",
    "# # end\tOptional. An Integer specifying at which position to end the search\n",
    "\n",
    "txt = \"Hello, welcome to my world.\"\n",
    "\n",
    "x = txt.endswith(\"my world.\")\n",
    "\n",
    "print(x)"
   ]
  },
  {
   "cell_type": "code",
   "execution_count": null,
   "id": "c7a923cf-3e4e-493a-b5d6-51fba294cc4f",
   "metadata": {},
   "outputs": [],
   "source": [
    "txt = \"Hello, welcome to my world.\"\n",
    "\n",
    "x = txt.endswith(\"my world.\", 5, 11)\n",
    "\n",
    "print(x)"
   ]
  },
  {
   "cell_type": "code",
   "execution_count": null,
   "id": "a2fb5028-195f-475d-8248-4ea7ad8caca0",
   "metadata": {},
   "outputs": [],
   "source": [
    "# expandtabs()\tSets the tab size of the string.\n",
    "# Set the tab size to 2 whitespaces:\n",
    "\n",
    "txt = \"H\\te\\tl\\tl\\to\"\n",
    "\n",
    "x =  txt.expandtabs(2)\n",
    "\n",
    "print(x)"
   ]
  },
  {
   "cell_type": "code",
   "execution_count": null,
   "id": "08ed87a0-11f0-45a1-9646-3bc1e2b79019",
   "metadata": {},
   "outputs": [],
   "source": [
    "txt = \"H\\te\\tl\\tl\\to\"\n",
    "\n",
    "print(txt)\n",
    "print(txt.expandtabs())\n",
    "print(txt.expandtabs(2))\n",
    "print(txt.expandtabs(4))\n",
    "print(txt.expandtabs(10))"
   ]
  },
  {
   "cell_type": "code",
   "execution_count": null,
   "id": "7578f466-6ace-491c-9edc-0b9c644e70c5",
   "metadata": {},
   "outputs": [],
   "source": [
    "# find()\tSearches the string for a specified value and returns the position of where it was found.\n",
    "# Where in the text is the word \"welcome\"?:\n",
    "\n",
    "\n",
    "txt = \"Hello, welcome to my world.\"\n",
    "\n",
    "x = txt.find(\"welcome\")\n",
    "\n",
    "print(x)"
   ]
  },
  {
   "cell_type": "code",
   "execution_count": null,
   "id": "a1e99fb2-e1a2-4cf8-a935-2353f9e70c7e",
   "metadata": {},
   "outputs": [],
   "source": [
    "# The find() method finds the first occurrence of the specified value.\n",
    "\n",
    "# The find() method returns -1 if the value is not found.\n",
    "\n",
    "# The find() method is almost the same as the index() method,\n",
    "# the only difference is that the index() method raises an exception if the value is not found. (See example below).\n",
    "\n",
    "# string.find(value, start, end)\n",
    "\n",
    "# value\tRequired. The value to search for\n",
    "# start\tOptional. Where to start the search. Default is 0\n",
    "# end\tOptional. Where to end the search. Default is to the end of the string.\n",
    "\n",
    "txt = \"Hello, welcome to my world.\"\n",
    "\n",
    "x = txt.find(\"e\")\n",
    "\n",
    "print(x)"
   ]
  },
  {
   "cell_type": "code",
   "execution_count": null,
   "id": "b9d4b7b2-9a7b-4081-a06e-e0e7db251ec7",
   "metadata": {},
   "outputs": [],
   "source": [
    "txt = \"Hello, welcome to my world.\"\n",
    "\n",
    "x = txt.find(\"e\", 5, 10)\n",
    "\n",
    "print(x)"
   ]
  },
  {
   "cell_type": "code",
   "execution_count": null,
   "id": "76d1818d-de61-471e-b998-e3f3e328718b",
   "metadata": {},
   "outputs": [],
   "source": [
    "txt = \"Hello, welcome to my world.\"\n",
    "\n",
    "print(txt.find(\"q\"))\n",
    "print(txt.index(\"q\"))"
   ]
  },
  {
   "cell_type": "code",
   "execution_count": null,
   "id": "9023086a-9f57-4856-96e3-d1d65ecbe1c0",
   "metadata": {},
   "outputs": [],
   "source": [
    "# format()\tFormats specified values in a string.\n",
    "# Insert the price inside the placeholder, the price should be in fixed point, two-decimal format:\n",
    "\n",
    "txt = \"For only {price:.2f} dollars!\"\n",
    "print(txt.format(price = 49))"
   ]
  },
  {
   "cell_type": "code",
   "execution_count": null,
   "id": "16bdd1be-0d9c-4db4-bf38-bdfe2ea96651",
   "metadata": {},
   "outputs": [],
   "source": [
    "# The format() method formats the specified value(s) and insert them inside the string's placeholder.\n",
    "\n",
    "# The placeholder is defined using curly brackets: {}. Read more about the placeholders in the Placeholder section below.\n",
    "\n",
    "# The format() method returns the formatted string.\n",
    "\n",
    "\n",
    "# string.format(value1, value2...)\n",
    "\n",
    "# value1, value2...\tRequired. One or more values that should be formatted and inserted in the string.\n",
    "\n",
    "# The values are either a list of values separated by commas, a key=value list, or a combination of both.\n",
    "\n",
    "# The values can be of any data type.\n",
    "\n",
    "txt1 = \"My name is {fname}, I'm {age}\".format(fname = \"John\", age = 36)\n",
    "txt2 = \"My name is {0}, I'm {1}\".format(\"John\",36)\n",
    "txt3 = \"My name is {}, I'm {}\".format(\"John\",36)"
   ]
  },
  {
   "cell_type": "code",
   "execution_count": null,
   "id": "80b03813-f003-44b1-954f-295aa4670ec6",
   "metadata": {},
   "outputs": [],
   "source": [
    "#To demonstrate, we insert the number 8 to set the available space for the value to 8 characters.\n",
    "\n",
    "#Use \"<\" to left-align the value:\n",
    "\n",
    "txt = \"We have {:<8} chickens.\"\n",
    "print(txt.format(49))\n"
   ]
  },
  {
   "cell_type": "code",
   "execution_count": null,
   "id": "5d702fb9-0784-4662-9853-a1e3a1cfa43f",
   "metadata": {},
   "outputs": [],
   "source": [
    "#To demonstrate, we insert the number 8 to set the available space for the value to 8 characters.\n",
    "\n",
    "#Use \">\" to right-align the value:\n",
    "\n",
    "txt = \"We have {:>8} chickens.\"\n",
    "print(txt.format(49))\n"
   ]
  },
  {
   "cell_type": "code",
   "execution_count": null,
   "id": "05827055-592c-44b7-b861-b3dcba95c7fe",
   "metadata": {},
   "outputs": [],
   "source": [
    "#To demonstrate, we insert the number 8 to set the available space for the value to 8 characters.\n",
    "\n",
    "#Use \"^\" to center-align the value:\n",
    "\n",
    "txt = \"We have {:^8} chickens.\"\n",
    "print(txt.format(49))"
   ]
  },
  {
   "cell_type": "code",
   "execution_count": null,
   "id": "9ea632af-5602-4594-84ef-5ba4f546ae35",
   "metadata": {},
   "outputs": [],
   "source": [
    "#To demonstrate, we insert the number 8 to specify the available space for the value.\n",
    "\n",
    "#Use \"=\" to place the plus/minus sign at the left most position:\n",
    "\n",
    "txt = \"The temperature is {:=1} degrees celsius.\"\n",
    "\n",
    "print(txt.format(-5))"
   ]
  },
  {
   "cell_type": "code",
   "execution_count": null,
   "id": "b4e2c95a-5cae-4870-8ae2-566fd8f12291",
   "metadata": {},
   "outputs": [],
   "source": [
    "#Use \"+\" to always indicate if the number is positive or negative:\n",
    "\n",
    "txt = \"The temperature is between {:+} and {:+} degrees celsius.\"\n",
    "\n",
    "print(txt.format(-3, 7))"
   ]
  },
  {
   "cell_type": "code",
   "execution_count": null,
   "id": "fbe2e0f8-95b5-4c8e-8767-e8a9d9ca23d6",
   "metadata": {},
   "outputs": [],
   "source": [
    "#Use \"-\" to always indicate if the number is negative (positive numbers are displayed without any sign):\n",
    "\n",
    "txt = \"The temperature is between {:-} and {:-} degrees celsius.\"\n",
    "\n",
    "print(txt.format(-3, 7))\n"
   ]
  },
  {
   "cell_type": "code",
   "execution_count": null,
   "id": "7e444b07-4cf4-485a-ae51-44722fc3d609",
   "metadata": {},
   "outputs": [],
   "source": [
    "#Use \" \" (a space) to insert a space before positive numbers and a minus sign before negative numbers:\n",
    "\n",
    "txt = \"The temperature is between {: } and {: } degrees celsius.\"\n",
    "\n",
    "print(txt.format(-3, 7))\n"
   ]
  },
  {
   "cell_type": "code",
   "execution_count": null,
   "id": "4c472134-1879-48c5-9ca2-2409ba229645",
   "metadata": {},
   "outputs": [],
   "source": [
    "#Use \",\" to add a comma as a thousand separator:\n",
    "\n",
    "txt = \"The universe is {:,} years old.\"\n",
    "\n",
    "print(txt.format(13800000000))"
   ]
  },
  {
   "cell_type": "code",
   "execution_count": null,
   "id": "c6ac45e2-8856-4fe1-a118-36385e455c26",
   "metadata": {},
   "outputs": [],
   "source": [
    "#Use \"_\" to add a underscore character as a thousand separator:\n",
    "\n",
    "txt = \"The universe is {:_} years old.\"\n",
    "\n",
    "print(txt.format(13800000000))\n"
   ]
  },
  {
   "cell_type": "code",
   "execution_count": null,
   "id": "54c5112f-1895-407c-a568-63a9a9e470fc",
   "metadata": {},
   "outputs": [],
   "source": [
    "#Use \"b\" to convert the number into binary format:\n",
    "\n",
    "txt = \"The binary version of {0} is {0:b}\"\n",
    "\n",
    "print(txt.format(5))"
   ]
  },
  {
   "cell_type": "code",
   "execution_count": null,
   "id": "156c59fb-2873-46c2-8a3b-920a5a0ce7b7",
   "metadata": {},
   "outputs": [],
   "source": [
    "#Use \"d\" to convert a number, in this case a binary number, into decimal number format:\n",
    "\n",
    "txt = \"We have {:d} chickens.\"\n",
    "print(txt.format(0b101))"
   ]
  },
  {
   "cell_type": "code",
   "execution_count": null,
   "id": "793dc422-21d0-4673-ad4d-103cedf5b1bd",
   "metadata": {},
   "outputs": [],
   "source": [
    "#Use \"e\" to convert a number into scientific number format (with a lower-case e):\n",
    "\n",
    "txt = \"We have {:e} chickens.\"\n",
    "print(txt.format(5))"
   ]
  },
  {
   "cell_type": "code",
   "execution_count": null,
   "id": "6fea2327-4840-4988-97ef-591c62b7ca25",
   "metadata": {},
   "outputs": [],
   "source": [
    "#Use \"E\" to convert a number into scientific number format (with an upper-case E):\n",
    "\n",
    "txt = \"We have {:E} chickens.\"\n",
    "print(txt.format(5))"
   ]
  },
  {
   "cell_type": "code",
   "execution_count": null,
   "id": "6190082e-1d41-4304-b916-c30b2902b67e",
   "metadata": {},
   "outputs": [],
   "source": [
    "#Use \"f\" to convert a number into a fixed point number, default with 6 decimals, but use a period followed by a number to specify the number of decimals:\n",
    "\n",
    "txt = \"The price is {:.2f} dollars.\"\n",
    "print(txt.format(45))\n",
    "\n",
    "#without the \".2\" inside the placeholder, this number will be displayed like this:\n",
    "\n",
    "txt = \"The price is {:f} dollars.\"\n",
    "print(txt.format(45))"
   ]
  },
  {
   "cell_type": "code",
   "execution_count": null,
   "id": "6c080e66-3293-405a-81de-81685580d1e1",
   "metadata": {},
   "outputs": [],
   "source": [
    "#Use \"F\" to convert a number into a fixed point number, but display inf and nan as INF and NAN:\n",
    "\n",
    "x = float('inf')\n",
    "\n",
    "txt = \"The price is {:F} dollars.\"\n",
    "print(txt.format(x))\n",
    "\n",
    "#same example, but with a lower case f:\n",
    "\n",
    "txt = \"The price is {:f} dollars.\"\n",
    "print(txt.format(x))\n"
   ]
  },
  {
   "cell_type": "code",
   "execution_count": null,
   "id": "3a94deae-a449-4db8-a722-5ef8f25e1065",
   "metadata": {},
   "outputs": [],
   "source": [
    "#Use \"o\" to convert the number into octal format:\n",
    "\n",
    "txt = \"The octal version of {0} is {0:o}\"\n",
    "\n",
    "print(txt.format(10))\n"
   ]
  },
  {
   "cell_type": "code",
   "execution_count": null,
   "id": "aec5f3f6-6647-4c02-95a1-9df33873619b",
   "metadata": {},
   "outputs": [],
   "source": [
    "#Use \"x\" to convert the number into Hex format:\n",
    "\n",
    "txt = \"The Hexadecimal version of {0} is {0:x}\"\n",
    "\n",
    "print(txt.format(255))\n"
   ]
  },
  {
   "cell_type": "code",
   "execution_count": null,
   "id": "6388d0ba-1e5a-4ccb-a960-629b8704bdbd",
   "metadata": {},
   "outputs": [],
   "source": [
    "#Use \"%\" to convert the number into a percentage format:\n",
    "\n",
    "txt = \"You scored {:%}\"\n",
    "print(txt.format(0.25))\n",
    "\n",
    "#Or, without any decimals:\n",
    "\n",
    "txt = \"You scored {:.0%}\"\n",
    "print(txt.format(0.25))\n"
   ]
  },
  {
   "cell_type": "code",
   "execution_count": null,
   "id": "d10649ba-cac0-4b07-b861-eb025ebd7e85",
   "metadata": {},
   "outputs": [],
   "source": [
    "# Input dictionary \n",
    "profession = { 'name':['Barry', 'Bruce'], \n",
    "\t\t\t'profession':['Engineer', 'Doctor'], \n",
    "\t\t\t'age':[30, 31] } \n",
    "\t\t\t\t\t\n",
    "# Use of format_map() function \n",
    "print('{name[0]} is an {profession[0]} and he'\n",
    "\t' is {age[0]} years old.'.format_map(profession)) \n",
    "\t\t\n",
    "print('{name[1]} is an {profession[1]} and he'\n",
    "\t' is {age[1]} years old.'.format_map(profession))\n"
   ]
  },
  {
   "cell_type": "code",
   "execution_count": null,
   "id": "e0dfbc3b-23ce-4e11-a43e-d4a19cf08c63",
   "metadata": {},
   "outputs": [],
   "source": [
    "# index()\tSearches the string for a specified value and returns the position of where it was found.\n",
    "txt = \"Hello, welcome to my world.\"\n",
    "\n",
    "x = txt.index(\"welcome\")\n",
    "\n",
    "print(x)"
   ]
  },
  {
   "cell_type": "code",
   "execution_count": null,
   "id": "a323b316-8c4f-46b7-92b0-25a1cbb4090c",
   "metadata": {},
   "outputs": [],
   "source": [
    "# string.index(value, start, end)\n",
    "\n",
    "# value\tRequired. The value to search for\n",
    "# start\tOptional. Where to start the search. Default is 0\n",
    "# end\tOptional. Where to end the search. Default is to the end of the string.\n",
    "\n",
    "txt = \"Hello, welcome to my world.\"\n",
    "\n",
    "x = txt.index(\"e\")\n",
    "\n",
    "print(x)"
   ]
  },
  {
   "cell_type": "code",
   "execution_count": null,
   "id": "931a74e3-e6d8-472f-baac-c663860b3efc",
   "metadata": {},
   "outputs": [],
   "source": [
    "txt = \"Hello, welcome to my world.\"\n",
    "\n",
    "x = txt.index(\"e\", 5, 10)\n",
    "\n",
    "print(x)"
   ]
  },
  {
   "cell_type": "code",
   "execution_count": null,
   "id": "e3c2bfec-822c-4ab5-abfd-e977302e2e06",
   "metadata": {},
   "outputs": [],
   "source": [
    "# If the value is not found, the find() method returns -1, but the index() method will raise an exception:\n",
    "\n",
    "txt = \"Hello, welcome to my world.\"\n",
    "\n",
    "print(txt.find(\"q\"))\n",
    "print(txt.index(\"q\"))"
   ]
  },
  {
   "cell_type": "code",
   "execution_count": null,
   "id": "944b9727-c8ae-4df9-8385-6c94add297e9",
   "metadata": {},
   "outputs": [],
   "source": [
    "# isalnum()\tReturns True if all characters in the string are alphanumeric.\n",
    "txt = \"Company12\"\n",
    "\n",
    "x = txt.isalnum()\n",
    "\n",
    "print(x)"
   ]
  },
  {
   "cell_type": "code",
   "execution_count": null,
   "id": "5c0f067a-33d4-4ef0-9e34-ad903a24dd94",
   "metadata": {},
   "outputs": [],
   "source": [
    "txt = \"Company 12\"\n",
    "\n",
    "x = txt.isalnum()\n",
    "\n",
    "print(x)"
   ]
  },
  {
   "cell_type": "code",
   "execution_count": null,
   "id": "3fec1e51-a4cd-4f0b-ae47-2dcbe4479deb",
   "metadata": {},
   "outputs": [],
   "source": [
    "# isalpha()\tReturns True if all characters in the string are in the alphabet.\n",
    "txt = \"CompanyX\"\n",
    "\n",
    "x = txt.isalpha()\n",
    "\n",
    "print(x)"
   ]
  },
  {
   "cell_type": "code",
   "execution_count": null,
   "id": "be0dd19d-6d0e-4843-9d50-bb98bacbe018",
   "metadata": {},
   "outputs": [],
   "source": [
    "txt = \"Company10\"\n",
    "\n",
    "x = txt.isalpha()\n",
    "\n",
    "print(x)"
   ]
  },
  {
   "cell_type": "code",
   "execution_count": null,
   "id": "f7c33ca9-27aa-4518-b424-4a0ea4c37ea8",
   "metadata": {},
   "outputs": [],
   "source": [
    "# isascii()\tReturns True if all characters in the string are ascii characters.\n",
    "txt = \"Company123\"\n",
    "\n",
    "x = txt.isascii()\n",
    "\n",
    "print(x)"
   ]
  },
  {
   "cell_type": "markdown",
   "id": "7b094d8d-48fa-46bf-8a00-f8e138b6989c",
   "metadata": {},
   "source": [
    "##### ASCII"
   ]
  },
  {
   "cell_type": "code",
   "execution_count": null,
   "id": "2f9a7716-97f2-4496-b6b3-785cfd254040",
   "metadata": {},
   "outputs": [],
   "source": [
    "# ASCII stands for the \"American Standard Code for Information Interchange\".\n",
    "\n",
    "# It was designed in the early 60's, as a standard character set for computers and electronic devices.\n",
    "\n",
    "# ASCII is a 7-bit character set containing 128 characters.\n",
    "\n",
    "# It contains the numbers from 0-9, the upper and lower case English letters from A to Z, and some special characters.\n",
    "\n",
    "# The character sets used in modern computers, in HTML, and on the Internet, are all based on ASCII.\n",
    "\n",
    "# The following tables list the 128 ASCII characters and their equivalent number.\n",
    "\n",
    "\n",
    "\n"
   ]
  },
  {
   "cell_type": "code",
   "execution_count": null,
   "id": "1d50a742-24ac-4d3f-a07c-61867633140d",
   "metadata": {},
   "outputs": [],
   "source": [
    "# ASCII Device Control Characters\n",
    "# The ASCII control characters (range 00-31, plus 127) were designed to control hardware devices.\n",
    "\n",
    "# Control characters (except horizontal tab, line feed, and carriage return) have nothing to do inside an HTML document."
   ]
  },
  {
   "attachments": {
    "08258848-be66-4432-8cd9-23aa9fafb229.PNG": {
     "image/png": "[encoded data removed]"
    }
   },
   "cell_type": "markdown",
   "id": "303581bd-3c15-49d1-913a-bdab89451e03",
   "metadata": {},
   "source": [
    "![Capt123ure.PNG](attachment:08258848-be66-4432-8cd9-23aa9fafb229.PNG)"
   ]
  },
  {
   "attachments": {
    "a5532325-6283-453f-99ce-5a8f3b2a44c5.PNG": {
     "image/png": "[encoded data removed]"
    }
   },
   "cell_type": "markdown",
   "id": "41d47310-d36b-49c6-88a0-3af95c4df292",
   "metadata": {},
   "source": [
    "![Captur353e.PNG](attachment:a5532325-6283-453f-99ce-5a8f3b2a44c5.PNG)"
   ]
  },
  {
   "attachments": {
    "0db39692-47d4-4b04-a1af-de4a79550561.PNG": {
     "image/png": "[encoded data removed]"
    }
   },
   "cell_type": "markdown",
   "id": "00d98259-891c-428f-bc39-e80c76390ff2",
   "metadata": {},
   "source": [
    "![C11apture.PNG](attachment:0db39692-47d4-4b04-a1af-de4a79550561.PNG)"
   ]
  },
  {
   "attachments": {
    "51c56585-a151-40b4-850a-1395c7cebcfe.PNG": {
     "image/png": "[encoded data removed]"
    }
   },
   "cell_type": "markdown",
   "id": "a57f2d80-85f7-4cf8-8558-8ffefbc64811",
   "metadata": {},
   "source": [
    "![Cap2222ture.PNG](attachment:51c56585-a151-40b4-850a-1395c7cebcfe.PNG)"
   ]
  },
  {
   "attachments": {
    "20e59f4d-c49e-4bd5-b265-f20c45509d35.PNG": {
     "image/png": "[encoded data removed]"
    }
   },
   "cell_type": "markdown",
   "id": "f30fee8f-ea47-4ed9-b95a-c350d087ef09",
   "metadata": {},
   "source": [
    "![Captu333re.PNG](attachment:20e59f4d-c49e-4bd5-b265-f20c45509d35.PNG)"
   ]
  },
  {
   "attachments": {
    "0e3f2940-5d01-42b4-8fa5-6b7eda5f5f9b.PNG": {
     "image/png": "[encoded data removed]"
    }
   },
   "cell_type": "markdown",
   "id": "0fc636f6-4488-4715-90af-c343b19282f1",
   "metadata": {},
   "source": [
    "![Captur4444e.PNG](attachment:0e3f2940-5d01-42b4-8fa5-6b7eda5f5f9b.PNG)"
   ]
  },
  {
   "attachments": {
    "c04c97ce-1248-48be-8f21-e4ae1754f50d.PNG": {
     "image/png": "[encoded data removed]"
    }
   },
   "cell_type": "markdown",
   "id": "f363e755-511b-4a82-b345-bfa3e2229163",
   "metadata": {},
   "source": [
    "![Captur8888e.PNG](attachment:c04c97ce-1248-48be-8f21-e4ae1754f50d.PNG)"
   ]
  },
  {
   "attachments": {
    "c3364ad3-66fa-4310-803b-1d3f08c97113.PNG": {
     "image/png": "[encoded data removed]"
    }
   },
   "cell_type": "markdown",
   "id": "b8b57218-ad01-4761-8017-c9ce5444adf0",
   "metadata": {},
   "source": [
    "![Captur9999e.PNG](attachment:c3364ad3-66fa-4310-803b-1d3f08c97113.PNG)"
   ]
  },
  {
   "cell_type": "code",
   "execution_count": null,
   "id": "e38be123-ec70-46b5-899f-2a9143b1ac56",
   "metadata": {},
   "outputs": [],
   "source": [
    "# isdecimal()\tReturns True if all characters in the string are decimals.\n",
    "txt = \"1234\"\n",
    "\n",
    "x = txt.isdecimal()\n",
    "\n",
    "print(x)"
   ]
  },
  {
   "cell_type": "code",
   "execution_count": null,
   "id": "42f34c56-89b0-4312-ab95-db16f35f1f9e",
   "metadata": {},
   "outputs": [],
   "source": [
    "a = \"\\u0030\" #unicode for 0\n",
    "b = \"\\u0047\" #unicode for G\n",
    "\n",
    "print(a.isdecimal())\n",
    "print(b.isdecimal())"
   ]
  },
  {
   "cell_type": "code",
   "execution_count": null,
   "id": "bb9e725d-872e-44a3-b465-843d6a1f686c",
   "metadata": {},
   "outputs": [],
   "source": [
    "# isdigit()\tReturns True if all characters in the string are digits\n",
    "txt = \"50800\"\n",
    "\n",
    "x = txt.isdigit()\n",
    "\n",
    "print(x)"
   ]
  },
  {
   "cell_type": "code",
   "execution_count": null,
   "id": "319a3069-4710-4f01-bfb2-e2d8855958d0",
   "metadata": {},
   "outputs": [],
   "source": [
    "a = \"\\u0030\" #unicode for 0\n",
    "b = \"\\u00B2\" #unicode for ²\n",
    "\n",
    "print(a.isdigit())\n",
    "print(b.isdigit())"
   ]
  },
  {
   "cell_type": "code",
   "execution_count": null,
   "id": "b467dffe-0d82-4c2b-9311-a6f3c6aedae9",
   "metadata": {},
   "outputs": [],
   "source": [
    "# isidentifier()\tReturns True if the string is an identifier.\n",
    "\n",
    "txt = \"Demo\"\n",
    "\n",
    "x = txt.isidentifier()\n",
    "\n",
    "print(x)"
   ]
  },
  {
   "cell_type": "code",
   "execution_count": null,
   "id": "975d6d25-55b1-4f41-b112-c86a58ba9f03",
   "metadata": {},
   "outputs": [],
   "source": [
    "# A string is considered a valid identifier if it only contains alphanumeric letters (a-z) and (0-9),\n",
    "# or underscores (_). A valid identifier cannot start with a number, or contain any spaces.\n",
    "\n",
    "a = \"MyFolder\"\n",
    "b = \"Demo002\"\n",
    "c = \"2bring\"\n",
    "d = \"my demo\"\n",
    "\n",
    "print(a.isidentifier())\n",
    "print(b.isidentifier())\n",
    "print(c.isidentifier())\n",
    "print(d.isidentifier())"
   ]
  },
  {
   "cell_type": "code",
   "execution_count": null,
   "id": "9cad80c2-f19f-4635-9aec-13c97591d98f",
   "metadata": {},
   "outputs": [],
   "source": [
    "# islower()\tReturns True if all characters in the string are lower case\n",
    "\n",
    "txt = \"hello world!\"\n",
    "\n",
    "x = txt.islower()\n",
    "\n",
    "print(x)"
   ]
  },
  {
   "cell_type": "code",
   "execution_count": null,
   "id": "404b465c-9934-4625-a4c9-d031dc5b2c87",
   "metadata": {},
   "outputs": [],
   "source": [
    "a = \"Hello world!\"\n",
    "b = \"hello 123\"\n",
    "c = \"mynameisPeter\"\n",
    "\n",
    "print(a.islower())\n",
    "print(b.islower())\n",
    "print(c.islower())"
   ]
  },
  {
   "cell_type": "code",
   "execution_count": null,
   "id": "fa3774a3-558f-4dee-8b1b-9d7784771b8c",
   "metadata": {},
   "outputs": [],
   "source": [
    "# isnumeric()\tReturns True if all characters in the string are numeric\n",
    "txt = \"565543\"\n",
    "\n",
    "x = txt.isnumeric()\n",
    "\n",
    "print(x)"
   ]
  },
  {
   "cell_type": "code",
   "execution_count": null,
   "id": "2e601250-1d93-4e02-8bdf-993e0f9c5ada",
   "metadata": {},
   "outputs": [],
   "source": [
    "a = \"\\u0030\" #unicode for 0\n",
    "b = \"\\u00B2\" #unicode for &sup2;\n",
    "c = \"10km2\"\n",
    "d = \"-1\"\n",
    "e = \"1.5\"\n",
    "\n",
    "print(a.isnumeric())\n",
    "print(b.isnumeric())\n",
    "print(c.isnumeric())\n",
    "print(d.isnumeric())\n",
    "print(e.isnumeric())"
   ]
  },
  {
   "cell_type": "code",
   "execution_count": null,
   "id": "836a8a0b-127a-42bd-8ca9-492d98c91969",
   "metadata": {},
   "outputs": [],
   "source": [
    "# isprintable()\tReturns True if all characters in the string are printable\n",
    "txt = \"Hello! Are you #1?\"\n",
    "\n",
    "x = txt.isprintable()\n",
    "\n",
    "print(x)"
   ]
  },
  {
   "cell_type": "code",
   "execution_count": null,
   "id": "0d5862f7-3bcc-4fc2-89dd-baef2c43fb76",
   "metadata": {},
   "outputs": [],
   "source": [
    "txt = \"Hello!\\nAre you #1?\"\n",
    "\n",
    "x = txt.isprintable()\n",
    "\n",
    "print(x)"
   ]
  },
  {
   "cell_type": "code",
   "execution_count": null,
   "id": "a8e80b64-b91b-4067-ba0b-935fa3215ad2",
   "metadata": {},
   "outputs": [],
   "source": [
    "# isspace()\tReturns True if all characters in the string are whitespaces\n",
    "txt = \"   \"\n",
    "\n",
    "x = txt.isspace()\n",
    "\n",
    "print(x)"
   ]
  },
  {
   "cell_type": "code",
   "execution_count": null,
   "id": "40bb402f-4a5e-4d84-bc2e-fe6a4aa4c71b",
   "metadata": {},
   "outputs": [],
   "source": [
    "txt = \"   s   \"\n",
    "\n",
    "x = txt.isspace()\n",
    "\n",
    "print(x)"
   ]
  },
  {
   "cell_type": "code",
   "execution_count": null,
   "id": "189c69d9-c19c-48ab-932e-d68aa567a34b",
   "metadata": {},
   "outputs": [],
   "source": [
    "# istitle()\tReturns True if the string follows the rules of a title\n",
    "txt = \"Hello, And Welcome To My World!\"\n",
    "\n",
    "x = txt.istitle()\n",
    "\n",
    "print(x)"
   ]
  },
  {
   "cell_type": "code",
   "execution_count": null,
   "id": "a8032df3-a08b-4132-8c8e-3e880c241b71",
   "metadata": {},
   "outputs": [],
   "source": [
    "a = \"HELLO, AND WELCOME TO MY WORLD\"\n",
    "b = \"Hello\"\n",
    "c = \"22 Names\"\n",
    "d = \"This Is %'!?\"\n",
    "\n",
    "print(a.istitle())\n",
    "print(b.istitle())\n",
    "print(c.istitle())\n",
    "print(d.istitle())"
   ]
  },
  {
   "cell_type": "code",
   "execution_count": null,
   "id": "01694c4f-7eb9-4061-9ab2-d58eaa163fe1",
   "metadata": {},
   "outputs": [],
   "source": [
    "# isupper()\tReturns True if all characters in the string are upper case\n",
    "txt = \"THIS IS NOW!\"\n",
    "\n",
    "x = txt.isupper()\n",
    "\n",
    "print(x)"
   ]
  },
  {
   "cell_type": "code",
   "execution_count": null,
   "id": "39d39c8c-ab8f-431b-a793-2f9461a3cb87",
   "metadata": {},
   "outputs": [],
   "source": [
    "a = \"Hello World!\"\n",
    "b = \"hello 123\"\n",
    "c = \"MY NAME IS PETER\"\n",
    "\n",
    "print(a.isupper())\n",
    "print(b.isupper())\n",
    "print(c.isupper())"
   ]
  },
  {
   "cell_type": "code",
   "execution_count": null,
   "id": "4f681227-f346-426c-8388-8946fb5d507b",
   "metadata": {},
   "outputs": [],
   "source": [
    "# join()\tConverts the elements of an iterable into a string.\n",
    "myTuple = (\"John\", \"Peter\", \"Vicky\")\n",
    "\n",
    "x = \"#\".join(myTuple)\n",
    "\n",
    "print(x)"
   ]
  },
  {
   "cell_type": "code",
   "execution_count": null,
   "id": "4439a720-96d4-4816-a982-1dd1346802ab",
   "metadata": {},
   "outputs": [],
   "source": [
    "myDict = {\"name\": \"John\", \"country\": \"Norway\"}\n",
    "mySeparator = \"TEST\"\n",
    "\n",
    "x = mySeparator.join(myDict)\n",
    "\n",
    "print(x)"
   ]
  },
  {
   "cell_type": "code",
   "execution_count": null,
   "id": "25e37e02-403f-4a7c-94fa-9c65afe72486",
   "metadata": {},
   "outputs": [],
   "source": [
    "# ljust()\tReturns a left justified version of the string\n",
    "\n",
    "txt = \"banana\"\n",
    "\n",
    "x = txt.ljust(20)\n",
    "\n",
    "print(x, \"is my favorite fruit.\")#  In the result, there are actually 14 whitespaces to the right of the word banana."
   ]
  },
  {
   "cell_type": "code",
   "execution_count": null,
   "id": "3b980951-cc60-4303-ab3b-bc181bddf957",
   "metadata": {},
   "outputs": [],
   "source": [
    "txt = \"banana\"\n",
    "\n",
    "x = txt.ljust(20, \"O\")\n",
    "\n",
    "print(x)"
   ]
  },
  {
   "cell_type": "code",
   "execution_count": null,
   "id": "dee01552-97fd-4f34-b2d8-ed0c79d27230",
   "metadata": {},
   "outputs": [],
   "source": [
    "# lower()\tConverts a string into lower case\n",
    "txt = \"Hello my FRIENDS\"\n",
    "\n",
    "x = txt.lower()\n",
    "\n",
    "print(x)"
   ]
  },
  {
   "cell_type": "code",
   "execution_count": null,
   "id": "ef1310ab-7d64-4c54-a8f9-9af43b3033e8",
   "metadata": {},
   "outputs": [],
   "source": [
    "# lstrip()\tReturns a left trim version of the string.\n",
    "txt = \"     banana     \"\n",
    "\n",
    "x = txt.lstrip()\n",
    "\n",
    "print(\"of all fruits\", x, \"is my favorite\")"
   ]
  },
  {
   "cell_type": "code",
   "execution_count": null,
   "id": "4acafcaa-bd73-46d0-a056-34a46b9382d0",
   "metadata": {},
   "outputs": [],
   "source": [
    "txt = \",,,,,ssaaww.....banana\"\n",
    "\n",
    "x = txt.lstrip(\",.asw\")\n",
    "\n",
    "print(x)"
   ]
  },
  {
   "cell_type": "code",
   "execution_count": null,
   "id": "e905a425-04c8-4388-8863-8d32ad443427",
   "metadata": {},
   "outputs": [],
   "source": [
    "# maketrans()\tReturns a translation table to be used in translations.\n",
    "txt = \"Hello Sam!\"\n",
    "mytable = str.maketrans(\"S\", \"P\")\n",
    "print(txt.translate(mytable))"
   ]
  },
  {
   "cell_type": "code",
   "execution_count": null,
   "id": "8230af69-ffd2-4805-b0aa-f36670872297",
   "metadata": {},
   "outputs": [],
   "source": [
    "# The maketrans() method returns a mapping table that can be used with the translate() method to replace specified characters.\n",
    "# str.maketrans(x, y, z)\n",
    "\n",
    "# x\tRequired. If only one parameter is specified, this has to be a dictionary describing how to perform the replace.\n",
    "# If two or more parameters are specified, this parameter has to be a string specifying the characters you want to replace.\n",
    "# y\tOptional. A string with the same length as parameter x. \n",
    "# Each character in the first parameter will be replaced with the corresponding character in this string.\n",
    "# z\tOptional. A string describing which characters to remove from the original string."
   ]
  },
  {
   "cell_type": "code",
   "execution_count": null,
   "id": "f71d1a3d-0e02-4438-b618-f77936f4a80e",
   "metadata": {},
   "outputs": [],
   "source": [
    "txt = \"Hi Sam!\"\n",
    "x = \"mSa\"\n",
    "y = \"eJo\"\n",
    "mytable = str.maketrans(x, y)\n",
    "print(txt.translate(mytable))"
   ]
  },
  {
   "cell_type": "code",
   "execution_count": null,
   "id": "593b91b4-ee31-4b32-9c4a-70293d4c3cbb",
   "metadata": {},
   "outputs": [],
   "source": [
    "txt = \"Good night Sam!\"\n",
    "x = \"mSa\"\n",
    "y = \"eJo\"\n",
    "z = \"odnght\"\n",
    "mytable = str.maketrans(x, y, z)\n",
    "print(txt.translate(mytable))"
   ]
  },
  {
   "cell_type": "code",
   "execution_count": null,
   "id": "a091000c-e51f-4dd5-943b-bc6e486eb958",
   "metadata": {},
   "outputs": [],
   "source": [
    "txt = \"Good night Sam!\"\n",
    "x = \"mSa\"\n",
    "y = \"eJo\"\n",
    "z = \"odnght\"\n",
    "print(str.maketrans(x, y, z))"
   ]
  },
  {
   "cell_type": "code",
   "execution_count": null,
   "id": "02dfb6bf-c2e0-4157-ad09-d8c695e2a014",
   "metadata": {},
   "outputs": [],
   "source": [
    "# partition()\tReturns a tuple where the string is parted into three parts.\n",
    "\n",
    "\n",
    "# Search for the word \"bananas\", and return a tuple with three elements:\n",
    "\n",
    "# 1 - everything before the \"match\"\n",
    "# 2 - the \"match\"\n",
    "# 3 - everything after the \"match\"\n",
    "\n",
    "txt = \"I could eat bananas all day\"\n",
    "\n",
    "x = txt.partition(\"bananas\")\n",
    "\n",
    "print(x)"
   ]
  },
  {
   "cell_type": "code",
   "execution_count": null,
   "id": "27f0ce3a-bc1b-470e-b43f-9f225af04200",
   "metadata": {},
   "outputs": [],
   "source": [
    "# The partition() method searches for a specified string, and splits the string into a tuple containing three elements.\n",
    "\n",
    "# The first element contains the part before the specified string.\n",
    "\n",
    "# The second element contains the specified string.\n",
    "\n",
    "# The third element contains the part after the string.\n",
    "\n",
    "# Note: This method searches for the first occurrence of the specified string."
   ]
  },
  {
   "cell_type": "code",
   "execution_count": null,
   "id": "88293d76-bd6b-4138-85e8-fe2d061e5c37",
   "metadata": {},
   "outputs": [],
   "source": [
    "txt = \"I could eat bananas all day\"\n",
    "\n",
    "x = txt.partition(\"apples\")\n",
    "\n",
    "print(x)"
   ]
  },
  {
   "cell_type": "code",
   "execution_count": null,
   "id": "562f73c7-f958-49d6-a06e-1ef4ea8cb382",
   "metadata": {},
   "outputs": [],
   "source": [
    "# replace()\tReturns a string where a specified value is replaced with a specified value.\n",
    "txt = \"I like bananas\"\n",
    "\n",
    "x = txt.replace(\"bananas\", \"apples\")\n",
    "\n",
    "print(x)"
   ]
  },
  {
   "cell_type": "code",
   "execution_count": null,
   "id": "646ea5fb-a1d2-4a57-b311-0b69e80c0c78",
   "metadata": {},
   "outputs": [],
   "source": [
    "# The replace() method replaces a specified phrase with another specified phrase.\n",
    "\n",
    "# Note: All occurrences of the specified phrase will be replaced, if nothing else is specified."
   ]
  },
  {
   "cell_type": "code",
   "execution_count": null,
   "id": "a78cee37-0abf-4f2c-8360-9ed45395a4c0",
   "metadata": {},
   "outputs": [],
   "source": [
    "# string.replace(oldvalue, newvalue, count)\n",
    "\n",
    "# oldvalue\tRequired. The string to search for\n",
    "# newvalue\tRequired. The string to replace the old value with\n",
    "# count\tOptional. A number specifying how many occurrences of the old value you want to replace. Default is all occurrences"
   ]
  },
  {
   "cell_type": "code",
   "execution_count": null,
   "id": "1b3ec461-6b3d-49cf-b539-02c551eafdf2",
   "metadata": {},
   "outputs": [],
   "source": [
    "txt = \"one one was a race horse, two two was one too.\"\n",
    "\n",
    "x = txt.replace(\"one\", \"three\")\n",
    "\n",
    "print(x)"
   ]
  },
  {
   "cell_type": "code",
   "execution_count": null,
   "id": "df71c320-451c-406d-b1e8-9f23072c8d04",
   "metadata": {},
   "outputs": [],
   "source": [
    "txt = \"one one was a race horse, two two was one too.\"\n",
    "\n",
    "x = txt.replace(\"one\", \"three\", 2)\n",
    "\n",
    "print(x)"
   ]
  },
  {
   "cell_type": "code",
   "execution_count": null,
   "id": "52b31708-8840-4203-aab9-7ec27fb1e57f",
   "metadata": {},
   "outputs": [],
   "source": [
    "# rfind()\tSearches the string for a specified value and returns the last position of where it was found.\n",
    "txt = \"Mi casa, su casa.\"\n",
    "\n",
    "x = txt.rfind(\"casa\")\n",
    "\n",
    "print(x)"
   ]
  },
  {
   "cell_type": "code",
   "execution_count": null,
   "id": "f52b0091-1b41-4638-8056-c48da1f9598b",
   "metadata": {},
   "outputs": [],
   "source": [
    "# The rfind() method finds the last occurrence of the specified value.\n",
    "\n",
    "# The rfind() method returns -1 if the value is not found.\n",
    "\n",
    "# The rfind() method is almost the same as the rindex() method. See example below.\n",
    "\n",
    "\n",
    "# string.rfind(value, start, end)\n",
    "\n",
    "# value\tRequired. The value to search for\n",
    "# start\tOptional. Where to start the search. Default is 0\n",
    "# end\tOptional. Where to end the search. Default is to the end of the string"
   ]
  },
  {
   "cell_type": "code",
   "execution_count": null,
   "id": "2ed4e35a-8b51-4718-ad1a-7aee40c5f755",
   "metadata": {},
   "outputs": [],
   "source": [
    "txt = \"Hello, welcome to my world.\"\n",
    "\n",
    "x = txt.rfind(\"e\")\n",
    "\n",
    "print(x)"
   ]
  },
  {
   "cell_type": "code",
   "execution_count": null,
   "id": "a4521d8d-49ed-444d-bab0-f264705b1bb6",
   "metadata": {},
   "outputs": [],
   "source": [
    "txt = \"Hello, welcome to my world.\"\n",
    "\n",
    "x = txt.rfind(\"e\", 5, 10)\n",
    "\n",
    "print(x)"
   ]
  },
  {
   "cell_type": "code",
   "execution_count": null,
   "id": "e00ee275-ed36-4d9d-8911-f4d3d8ca311f",
   "metadata": {},
   "outputs": [],
   "source": [
    "txt = \"Hello, welcome to my world.\"\n",
    "\n",
    "print(txt.rfind(\"q\"))\n",
    "print(txt.rindex(\"q\"))"
   ]
  },
  {
   "cell_type": "code",
   "execution_count": null,
   "id": "4f92f73e-f867-4263-bffe-60b66f229550",
   "metadata": {},
   "outputs": [],
   "source": [
    "# rindex()\tSearches the string for a specified value and returns the last position of where it was found.\n",
    "txt = \"Mi casa, su casa.\"\n",
    "\n",
    "x = txt.rindex(\"casa\")\n",
    "\n",
    "print(x)"
   ]
  },
  {
   "cell_type": "code",
   "execution_count": null,
   "id": "d2fcf480-2706-4650-b958-2d36db15ca41",
   "metadata": {},
   "outputs": [],
   "source": [
    "# The rindex() method finds the last occurrence of the specified value.\n",
    "\n",
    "# The rindex() method raises an exception if the value is not found.\n",
    "\n",
    "# The rindex() method is almost the same as the rfind() method. See example below.\n",
    "\n",
    "\n",
    "# string.rindex(value, start, end)\n",
    "\n",
    "# value\tRequired. The value to search for\n",
    "# start\tOptional. Where to start the search. Default is 0\n",
    "# end\tOptional. Where to end the search. Default is to the end of the string"
   ]
  },
  {
   "cell_type": "code",
   "execution_count": null,
   "id": "7d7a9323-a424-4fbe-9b66-0aec36540d90",
   "metadata": {},
   "outputs": [],
   "source": [
    "txt = \"Hello, welcome to my world.\"\n",
    "\n",
    "x = txt.rindex(\"e\")\n",
    "\n",
    "print(x)"
   ]
  },
  {
   "cell_type": "code",
   "execution_count": null,
   "id": "0321dfeb-7dd6-438e-a105-85b53b8280e9",
   "metadata": {},
   "outputs": [],
   "source": [
    "txt = \"Hello, welcome to my world.\"\n",
    "\n",
    "x = txt.rindex(\"e\", 5, 10)\n",
    "\n",
    "print(x)"
   ]
  },
  {
   "cell_type": "code",
   "execution_count": null,
   "id": "52d24fd9-6353-44d0-ac9c-d9c3250812a2",
   "metadata": {},
   "outputs": [],
   "source": [
    "txt = \"Hello, welcome to my world.\"\n",
    "\n",
    "print(txt.rfind(\"q\"))\n",
    "print(txt.rindex(\"q\"))"
   ]
  },
  {
   "cell_type": "code",
   "execution_count": null,
   "id": "d419b137-e543-4900-b9c3-bc67102d76a8",
   "metadata": {},
   "outputs": [],
   "source": [
    "txt = \"banana\"\n",
    "\n",
    "x = txt.rjust(20)\n",
    "\n",
    "print(x, \"is my favorite fruit.\")\n",
    "\n",
    "#  rjust()\tReturns a right justified version of the string"
   ]
  },
  {
   "cell_type": "code",
   "execution_count": null,
   "id": "4d6eccb8-3083-4c16-a265-f34b89c4f838",
   "metadata": {},
   "outputs": [],
   "source": [
    "# string.rjust(length, character)\n",
    "\n",
    "# length\tRequired. The length of the returned string\n",
    "# character\tOptional. A character to fill the missing space (to the left of the string). Default is \" \" (space)."
   ]
  },
  {
   "cell_type": "code",
   "execution_count": null,
   "id": "be6dd9e8-07eb-496f-85c6-beeae605583d",
   "metadata": {},
   "outputs": [],
   "source": [
    "txt = \"banana\"\n",
    "\n",
    "x = txt.rjust(20, \"O\")\n",
    "\n",
    "print(x)"
   ]
  },
  {
   "cell_type": "code",
   "execution_count": null,
   "id": "40d1d9f3-3eed-4378-8c87-15018556a079",
   "metadata": {},
   "outputs": [],
   "source": [
    "# rpartition()\tReturns a tuple where the string is parted into three parts\n",
    "\n",
    "# Search for the last occurrence of the word \"bananas\", and return a tuple with three elements:\n",
    "\n",
    "# 1 - everything before the \"match\"\n",
    "# 2 - the \"match\"\n",
    "# 3 - everything after the \"match\"\n",
    "\n",
    "txt = \"I could eat bananas all day, bananas are my favorite fruit\"\n",
    "\n",
    "x = txt.rpartition(\"bananas\")\n",
    "\n",
    "print(x)\n",
    "\n"
   ]
  },
  {
   "cell_type": "code",
   "execution_count": null,
   "id": "aa34c52b-f131-4c65-963d-8e680f1c7592",
   "metadata": {},
   "outputs": [],
   "source": [
    "# The rpartition() method searches for the last occurrence of a specified string, and splits the string into a tuple containing three elements.\n",
    "\n",
    "# The first element contains the part before the specified string.\n",
    "\n",
    "# The second element contains the specified string.\n",
    "\n",
    "# The third element contains the part after the string."
   ]
  },
  {
   "cell_type": "code",
   "execution_count": null,
   "id": "50a611cb-267e-4089-a917-aee8f707e2b8",
   "metadata": {},
   "outputs": [],
   "source": [
    "txt = \"I could eat bananas all day, bananas are my favorite fruit\"\n",
    "\n",
    "x = txt.rpartition(\"apples\")\n",
    "\n",
    "print(x)"
   ]
  },
  {
   "cell_type": "code",
   "execution_count": null,
   "id": "fe20d0c6-3401-4480-a938-1a6bfefda316",
   "metadata": {},
   "outputs": [],
   "source": [
    "# rsplit()\tSplits the string at the specified separator, and returns a list.\n",
    "txt = \"apple, banana, cherry\"\n",
    "\n",
    "x = txt.rsplit(\", \")\n",
    "\n",
    "print(x)"
   ]
  },
  {
   "cell_type": "code",
   "execution_count": null,
   "id": "907a2108-2907-4345-a921-d12a939b6dcc",
   "metadata": {},
   "outputs": [],
   "source": [
    "# The rsplit() method splits a string into a list, starting from the right.\n",
    "\n",
    "# If no \"max\" is specified, this method will return the same as the split() method.\n",
    "\n",
    "# Note: When maxsplit is specified, the list will contain the specified number of elements plus one."
   ]
  },
  {
   "cell_type": "code",
   "execution_count": null,
   "id": "1df24633-9ed7-4299-984c-9cfc54b9c8d6",
   "metadata": {},
   "outputs": [],
   "source": [
    "# string.rsplit(separator, maxsplit)\n",
    "\n",
    "# separator\tOptional. Specifies the separator to use when splitting the string. By default any whitespace is a separator\n",
    "# maxsplit\tOptional. Specifies how many splits to do. Default value is -1, which is \"all occurrences\""
   ]
  },
  {
   "cell_type": "code",
   "execution_count": null,
   "id": "011b87a3-dcb0-479e-836f-3dad2b47dbfb",
   "metadata": {},
   "outputs": [],
   "source": [
    "txt = \"apple, banana, cherry\"\n",
    "\n",
    "# setting the maxsplit parameter to 1, will return a list with 2 elements!\n",
    "x = txt.rsplit(\", \", 1)\n",
    "\n",
    "print(x)"
   ]
  },
  {
   "cell_type": "code",
   "execution_count": null,
   "id": "0577ce88-67a3-452c-87c6-f498f4cea05e",
   "metadata": {},
   "outputs": [],
   "source": [
    "# rstrip()\tReturns a right trim version of the string\n",
    "txt = \"     banana     \"\n",
    "\n",
    "x = txt.rstrip()\n",
    "\n",
    "print(\"of all fruits\", x, \"is my favorite\")"
   ]
  },
  {
   "cell_type": "code",
   "execution_count": null,
   "id": "7aec8372-0d92-4a5c-800a-01a1d00e5cf1",
   "metadata": {},
   "outputs": [],
   "source": [
    "txt = \"banana,,,,,ssqqqww.....\"\n",
    "\n",
    "x = txt.rstrip(\",.qsw\")\n",
    "\n",
    "print(x)"
   ]
  },
  {
   "cell_type": "code",
   "execution_count": null,
   "id": "746c32c5-8232-490d-a1b6-cbfed0b88f46",
   "metadata": {},
   "outputs": [],
   "source": [
    "# split()\tSplits the string at the specified separator, and returns a list\n",
    "\n",
    "txt = \"welcome to the jungle\"\n",
    "\n",
    "x = txt.split()\n",
    "\n",
    "print(x)"
   ]
  },
  {
   "cell_type": "code",
   "execution_count": null,
   "id": "c8d3ddc9-4f88-4451-b0ab-81bdc0e07de4",
   "metadata": {},
   "outputs": [],
   "source": [
    "# The split() method splits a string into a list.\n",
    "\n",
    "# You can specify the separator, default separator is any whitespace.\n",
    "\n",
    "# Note: When maxsplit is specified, the list will contain the specified number of elements plus one."
   ]
  },
  {
   "cell_type": "code",
   "execution_count": null,
   "id": "2ec6f20c-b908-4ab0-971e-2c9098dfd7a7",
   "metadata": {},
   "outputs": [],
   "source": [
    "txt = \"hello, my name is Peter, I am 26 years old\"\n",
    "\n",
    "x = txt.split(\", \")\n",
    "\n",
    "print(x)"
   ]
  },
  {
   "cell_type": "code",
   "execution_count": null,
   "id": "ce683089-f60d-44b5-ad5c-0af6b0f707b5",
   "metadata": {},
   "outputs": [],
   "source": [
    "txt = \"apple#banana#cherry#orange\"\n",
    "\n",
    "x = txt.split(\"#\")\n",
    "\n",
    "print(x)"
   ]
  },
  {
   "cell_type": "code",
   "execution_count": null,
   "id": "6aa790f9-8f9e-457f-a400-07ad3f04a6f9",
   "metadata": {},
   "outputs": [],
   "source": [
    "txt = \"apple#banana#cherry#orange\"\n",
    "\n",
    "# setting the maxsplit parameter to 1, will return a list with 2 elements!\n",
    "x = txt.split(\"#\", 1)\n",
    "\n",
    "print(x)"
   ]
  },
  {
   "cell_type": "code",
   "execution_count": null,
   "id": "97b8bd19-f234-47c8-93b4-3271b2584d30",
   "metadata": {},
   "outputs": [],
   "source": [
    "# splitlines()\tSplits the string at line breaks and returns a list\n",
    "\n",
    "txt = \"Thank you for the music\\nWelcome to the jungle\"\n",
    "\n",
    "x = txt.splitlines()\n",
    "\n",
    "print(x)\n"
   ]
  },
  {
   "cell_type": "code",
   "execution_count": null,
   "id": "78154101-a3fa-4f69-8c91-0322f41ec443",
   "metadata": {},
   "outputs": [],
   "source": [
    "txt = \"Thank you for the music\\nWelcome to the jungle\"\n",
    "\n",
    "x = txt.splitlines(True)\n",
    "\n",
    "print(x)"
   ]
  },
  {
   "cell_type": "code",
   "execution_count": null,
   "id": "454a028d-bd1b-4f01-8c59-788bd7322312",
   "metadata": {},
   "outputs": [],
   "source": [
    "# startswith()\tReturns true if the string starts with the specified value.\n",
    "txt = \"Hello, welcome to my world.\"\n",
    "\n",
    "x = txt.startswith(\"Hello\")\n",
    "\n",
    "print(x)"
   ]
  },
  {
   "cell_type": "code",
   "execution_count": null,
   "id": "52e217c8-8c11-4669-939a-6f8d3f17de6a",
   "metadata": {},
   "outputs": [],
   "source": [
    "# string.startswith(value, start, end)\n",
    "\n",
    "# value\tRequired. The value to check if the string starts with\n",
    "# start\tOptional. An Integer specifying at which position to start the search\n",
    "# end\tOptional. An Integer specifying at which position to end the search"
   ]
  },
  {
   "cell_type": "code",
   "execution_count": null,
   "id": "d3083175-efab-4d3a-9f0d-37ba65da95b1",
   "metadata": {},
   "outputs": [],
   "source": [
    "txt = \"Hello, welcome to my world.\"\n",
    "\n",
    "x = txt.startswith(\"wel\", 7, 20)\n",
    "\n",
    "print(x)"
   ]
  },
  {
   "cell_type": "code",
   "execution_count": null,
   "id": "c669855e-2cd0-4ac0-9c20-c9656d16a136",
   "metadata": {},
   "outputs": [],
   "source": [
    "# strip()\tReturns a trimmed version of the string.\n",
    "txt = \"Thank you for the music\\nWelcome to the jungle\"\n",
    "\n",
    "x = txt.splitlines()\n",
    "\n",
    "print(x)"
   ]
  },
  {
   "cell_type": "code",
   "execution_count": null,
   "id": "1346891e-7a53-4a1e-b911-e00cabdc7130",
   "metadata": {},
   "outputs": [],
   "source": [
    "# keeplinebreaks\tOptional. Specifies if the line breaks should be included (True), or not (False). Default value is False\n",
    "\n",
    "\n",
    "txt = \"Thank you for the music\\nWelcome to the jungle\"\n",
    "\n",
    "x = txt.splitlines(True)\n",
    "\n",
    "print(x)"
   ]
  },
  {
   "cell_type": "code",
   "execution_count": null,
   "id": "38f1569f-eb60-4537-8100-ecd16ad8050d",
   "metadata": {},
   "outputs": [],
   "source": [
    "# swapcase()\tSwaps cases, lower case becomes upper case and vice versa.\n"
   ]
  },
  {
   "cell_type": "code",
   "execution_count": null,
   "id": "8a1003e7-233b-4767-862c-9f93857d0c7f",
   "metadata": {},
   "outputs": [],
   "source": [
    "# strip()\tReturns a trimmed version of the string.\n",
    "txt = \"     banana     \"\n",
    "\n",
    "x = txt.strip()\n",
    "\n",
    "print(\"of all fruits\", x, \"is my favorite\")"
   ]
  },
  {
   "cell_type": "code",
   "execution_count": null,
   "id": "30e50a72-4ef3-49e2-abd3-50abeb1d659e",
   "metadata": {},
   "outputs": [],
   "source": [
    "# The strip() method removes any leading, and trailing whitespaces.\n",
    "\n",
    "# Leading means at the beginning of the string, trailing means at the end.\n",
    "\n",
    "# You can specify which character(s) to remove, if not, any whitespaces will be removed."
   ]
  },
  {
   "cell_type": "code",
   "execution_count": null,
   "id": "3917c441-4f82-42f0-bca0-b58fd7a54035",
   "metadata": {},
   "outputs": [],
   "source": [
    "txt = \",,,,,rrttgg.....banana....rrr\"\n",
    "\n",
    "x = txt.strip(\",.grt\")\n",
    "\n",
    "print(x)"
   ]
  },
  {
   "cell_type": "code",
   "execution_count": null,
   "id": "f4da1e0d-498f-46da-af5c-a4b08d0130d5",
   "metadata": {},
   "outputs": [],
   "source": [
    "# swapcase()\tSwaps cases, lower case becomes upper case and vice versa.\n",
    "txt = \"Hello My Name Is PETER\"\n",
    "\n",
    "x = txt.swapcase()\n",
    "\n",
    "print(x)"
   ]
  },
  {
   "cell_type": "code",
   "execution_count": null,
   "id": "9afc0633-b9ad-41de-bcfb-a0a9255163eb",
   "metadata": {},
   "outputs": [],
   "source": [
    "# title()\tConverts the first character of each word to upper case.\n",
    "txt = \"Welcome to my world\"\n",
    "\n",
    "x = txt.title()\n",
    "\n",
    "print(x)"
   ]
  },
  {
   "cell_type": "code",
   "execution_count": null,
   "id": "531e10a5-922d-433a-8db9-30de4263c05a",
   "metadata": {},
   "outputs": [],
   "source": [
    "# The title() method returns a string where the first character in every word is upper case. Like a header, or a title.\n",
    "\n",
    "# If the word contains a number or a symbol, the first letter after that will be converted to upper case.\n",
    "\n"
   ]
  },
  {
   "cell_type": "code",
   "execution_count": null,
   "id": "5d3ea9a5-0d8f-4160-b465-0db783268206",
   "metadata": {},
   "outputs": [],
   "source": [
    "txt = \"Welcome to my 2nd world\"\n",
    "\n",
    "x = txt.title()\n",
    "\n",
    "print(x)"
   ]
  },
  {
   "cell_type": "code",
   "execution_count": null,
   "id": "f3e07c8c-4e4b-4346-98c3-f9dde51cc3f3",
   "metadata": {},
   "outputs": [],
   "source": [
    "txt = \"hello b2b2b2 and 3g3g3g\"\n",
    "\n",
    "x = txt.title()\n",
    "\n",
    "print(x)"
   ]
  },
  {
   "cell_type": "code",
   "execution_count": null,
   "id": "628c5158-1fb7-4ba8-b755-87524fdb624e",
   "metadata": {},
   "outputs": [],
   "source": [
    "# translate()\tReturns a translated string"
   ]
  },
  {
   "cell_type": "code",
   "execution_count": null,
   "id": "071d213c-a3f0-4cdc-8184-fe8d943364b3",
   "metadata": {},
   "outputs": [],
   "source": [
    "#use a dictionary with ascii codes to replace 83 (S) with 80 (P):\n",
    "mydict = {83:  80}\n",
    "txt = \"Hello Sam!\"\n",
    "print(txt.translate(mydict))"
   ]
  },
  {
   "cell_type": "code",
   "execution_count": null,
   "id": "3b6888f7-7358-4ae5-bf1b-c2693f54280a",
   "metadata": {},
   "outputs": [],
   "source": [
    "# The translate() method returns a string where some specified characters are replaced with the character described in a dictionary, or in a mapping table.\n",
    "\n",
    "# Use the maketrans() method to create a mapping table.\n",
    "\n",
    "# If a character is not specified in the dictionary/table, the character will not be replaced.\n",
    "\n",
    "# If you use a dictionary, you must use ascii codes instead of characters.\n",
    "\n",
    "\n",
    "# string.translate(table)\n",
    "\n",
    "# table\tRequired. Either a dictionary, or a mapping table describing how to perform the replace"
   ]
  },
  {
   "cell_type": "code",
   "execution_count": null,
   "id": "b5b00497-b8af-4fb6-b65b-33090d4b54b7",
   "metadata": {},
   "outputs": [],
   "source": [
    "txt = \"Hello Sam!\"\n",
    "mytable = str.maketrans(\"S\", \"P\")\n",
    "print(txt.translate(mytable))"
   ]
  },
  {
   "cell_type": "code",
   "execution_count": null,
   "id": "4f16a231-c04b-4e52-b170-9e0f69d18de1",
   "metadata": {},
   "outputs": [],
   "source": [
    "txt = \"Hi Sam!\"\n",
    "x = \"mSa\"\n",
    "y = \"eJo\"\n",
    "mytable = str.maketrans(x, y)\n",
    "print(txt.translate(mytable))"
   ]
  },
  {
   "cell_type": "code",
   "execution_count": null,
   "id": "69c6efbb-b591-47bc-9859-55b3a6bb8a66",
   "metadata": {},
   "outputs": [],
   "source": [
    "txt = \"Good night Sam!\"\n",
    "x = \"mSa\"\n",
    "y = \"eJo\"\n",
    "z = \"odnght\"\n",
    "mytable = str.maketrans(x, y, z)\n",
    "print(txt.translate(mytable))"
   ]
  },
  {
   "cell_type": "code",
   "execution_count": null,
   "id": "6cdc23e3-c109-4d4d-97eb-b5cac85ec709",
   "metadata": {},
   "outputs": [],
   "source": [
    "txt = \"Good night Sam!\"\n",
    "mydict = {109: 101, 83: 74, 97: 111, 111: None, 100: None, 110: None, 103: None, 104: None, 116: None}\n",
    "print(txt.translate(mydict))"
   ]
  },
  {
   "cell_type": "code",
   "execution_count": null,
   "id": "3d02eb6f-ad8b-4b42-8c2d-239d71bc64e7",
   "metadata": {},
   "outputs": [],
   "source": [
    "# upper()\tConverts a string into upper case\n",
    "txt = \"Hello my friends\"\n",
    "\n",
    "x = txt.upper()\n",
    "\n",
    "print(x)"
   ]
  },
  {
   "cell_type": "code",
   "execution_count": null,
   "id": "03598fe8-f120-4330-8ef2-072b8d93dd21",
   "metadata": {},
   "outputs": [],
   "source": [
    "# zfill()\tFills the string with a specified number of 0 values at the beginning\n",
    "# The zfill() method adds zeros (0) at the beginning of the string, until it reaches the specified length.\n",
    "\n",
    "# If the value of the len parameter is less than the length of the string, no filling is done."
   ]
  },
  {
   "cell_type": "code",
   "execution_count": null,
   "id": "15a2e0f8-7cc9-41a6-99bf-ce399a08df3f",
   "metadata": {},
   "outputs": [],
   "source": [
    "a = \"hello\"\n",
    "b = \"welcome to the jungle\"\n",
    "c = \"10.000\"\n",
    "\n",
    "print(a.zfill(10))\n",
    "print(b.zfill(10))\n",
    "print(c.zfill(10))"
   ]
  },
  {
   "cell_type": "markdown",
   "id": "efba6360-d9b9-4a0c-a4af-153c9e4ceb90",
   "metadata": {
    "jp-MarkdownHeadingCollapsed": true
   },
   "source": [
    "# Booleans"
   ]
  },
  {
   "cell_type": "markdown",
   "id": "c7749afe-79ac-4915-9a46-bb82d7fd423a",
   "metadata": {},
   "source": [
    "* In programming you often need to know if an expression is True or False.\n",
    "\n",
    "* You can evaluate any expression in Python, and get one of two answers, True or False.\n",
    "\n",
    "* When you compare two values, the expression is evaluated and Python returns the Boolean answer:"
   ]
  },
  {
   "cell_type": "code",
   "execution_count": null,
   "id": "4d000a70-765a-41ab-bf8c-1e798de50361",
   "metadata": {},
   "outputs": [],
   "source": [
    "print(10 > 9)\n",
    "print(10 == 9)\n",
    "print(10 < 9)"
   ]
  },
  {
   "cell_type": "code",
   "execution_count": null,
   "id": "a84ddb28-3231-453d-8c28-528965ac227e",
   "metadata": {},
   "outputs": [],
   "source": [
    "# The bool() function allows you to evaluate any value, and give you True or False in return.\n",
    "print(bool(\"Hello\"))\n",
    "print(bool(15))"
   ]
  },
  {
   "cell_type": "code",
   "execution_count": null,
   "id": "4460c56b-11d1-4e57-9bcb-e3634a67c5b5",
   "metadata": {},
   "outputs": [],
   "source": [
    "# Most Values are True\n",
    "# Almost any value is evaluated to True if it has some sort of content.\n",
    "\n",
    "# Any string is True, except empty strings.\n",
    "\n",
    "# Any number is True, except 0.\n",
    "\n",
    "# Any list, tuple, set, and dictionary are True, except empty ones."
   ]
  },
  {
   "cell_type": "code",
   "execution_count": null,
   "id": "4259ca6e-5452-4951-8918-05976905cfa9",
   "metadata": {},
   "outputs": [],
   "source": [
    "bool(\"abc\")\n",
    "bool(123)\n",
    "bool([\"apple\", \"cherry\", \"banana\"])"
   ]
  },
  {
   "cell_type": "code",
   "execution_count": null,
   "id": "3e2f6dff-854b-47af-b92a-36605b55fd77",
   "metadata": {},
   "outputs": [],
   "source": [
    "# In fact, there are not many values that evaluate to False, except empty values, such as (), [], {}, \"\",\n",
    "# the number 0, and the value None. And of course the value False evaluates to False."
   ]
  },
  {
   "cell_type": "code",
   "execution_count": null,
   "id": "1ac93172-1903-4aaf-8136-aac96e44441c",
   "metadata": {},
   "outputs": [],
   "source": [
    "bool(False)\n",
    "bool(None)\n",
    "bool(0)\n",
    "bool(\"\")\n",
    "bool(())\n",
    "bool([])\n",
    "bool({})"
   ]
  },
  {
   "cell_type": "code",
   "execution_count": null,
   "id": "4a7e12e8-a5d0-462a-bcb0-798ea562d27d",
   "metadata": {},
   "outputs": [],
   "source": [
    "class myclass():\n",
    "  def __len__(self):\n",
    "    return 0\n",
    "\n",
    "myobj = myclass()\n",
    "print(bool(myobj))"
   ]
  },
  {
   "cell_type": "code",
   "execution_count": null,
   "id": "d30690b7-c13c-45e6-b42e-634c82ab505c",
   "metadata": {},
   "outputs": [],
   "source": [
    "def myFunction() :\n",
    "  return True\n",
    "\n",
    "print(myFunction())"
   ]
  },
  {
   "cell_type": "code",
   "execution_count": null,
   "id": "13298ff6-bc12-4609-90ed-a1771442a25d",
   "metadata": {},
   "outputs": [],
   "source": [
    "def myFunction() :\n",
    "  return True\n",
    "\n",
    "if myFunction():\n",
    "  print(\"YES!\")\n",
    "else:\n",
    "  print(\"NO!\")"
   ]
  },
  {
   "cell_type": "code",
   "execution_count": null,
   "id": "87f5f892-5624-4473-9d7f-98f3b8e8c7b4",
   "metadata": {},
   "outputs": [],
   "source": [
    "x = 200\n",
    "print(isinstance(x, int))"
   ]
  },
  {
   "cell_type": "markdown",
   "id": "028dfe63-f4a8-4b59-bc1c-51a7fa7292fe",
   "metadata": {},
   "source": [
    "# Operators"
   ]
  },
  {
   "cell_type": "markdown",
   "id": "978d7955-f289-4df9-b86f-22719de384f5",
   "metadata": {},
   "source": [
    "- **Arithmetic operators**\n",
    "- **Assignment operators**\n",
    "- **Comparison operators**\n",
    "- **Logical operators**\n",
    "- **Identity operators**\n",
    "- **Membership operators**\n",
    "- **Bitwise operators**"
   ]
  },
  {
   "cell_type": "markdown",
   "id": "67d34fe2-9c4d-4927-9b57-0271dcdafe0b",
   "metadata": {},
   "source": [
    "##### Arithmetic Operators"
   ]
  },
  {
   "attachments": {
    "00add506-0e72-48c1-8e7b-673507aa4ffb.PNG": {
     "image/png": "[encoded data removed]"
    }
   },
   "cell_type": "markdown",
   "id": "98a4651b-5fe3-49d0-a354-4f0e9d4e8695",
   "metadata": {},
   "source": [
    "![Captu3433re.PNG](attachment:00add506-0e72-48c1-8e7b-673507aa4ffb.PNG)"
   ]
  },
  {
   "cell_type": "code",
   "execution_count": null,
   "id": "a5e6dea3-0125-4c8c-a295-f1600713bda9",
   "metadata": {},
   "outputs": [],
   "source": [
    "x = 5\n",
    "y = 3\n",
    "\n",
    "print(x + y)"
   ]
  },
  {
   "cell_type": "code",
   "execution_count": null,
   "id": "15a739a0-5213-4e37-a12a-d65086b665f9",
   "metadata": {},
   "outputs": [],
   "source": [
    "x = 5\n",
    "y = 3\n",
    "\n",
    "print(x - y)"
   ]
  },
  {
   "cell_type": "code",
   "execution_count": null,
   "id": "2b300e7f-86dd-4762-9e4b-5d129c0cdc50",
   "metadata": {},
   "outputs": [],
   "source": [
    "x = 5\n",
    "y = 3\n",
    "\n",
    "print(x * y)\n"
   ]
  },
  {
   "cell_type": "code",
   "execution_count": null,
   "id": "b4b8150d-275f-4012-af01-56046cdbf180",
   "metadata": {},
   "outputs": [],
   "source": [
    "x = 12\n",
    "y = 3\n",
    "\n",
    "print(x / y)"
   ]
  },
  {
   "cell_type": "code",
   "execution_count": null,
   "id": "b62a10d4-4fcd-4a7c-b63a-41967daa9803",
   "metadata": {},
   "outputs": [],
   "source": [
    "x = 5\n",
    "y = 2\n",
    "\n",
    "print(x % y)\n"
   ]
  },
  {
   "cell_type": "code",
   "execution_count": null,
   "id": "d5e1e3c4-0686-478a-b21f-c3d24e2a28f1",
   "metadata": {},
   "outputs": [],
   "source": [
    "x = 2\n",
    "y = 5\n",
    "\n",
    "print(x ** y) #same as 2*2*2*2*2"
   ]
  },
  {
   "cell_type": "code",
   "execution_count": null,
   "id": "81a74127-b206-427c-8622-a9201c958c22",
   "metadata": {},
   "outputs": [],
   "source": [
    "x = 15\n",
    "y = 2\n",
    "\n",
    "print(x // y)\n",
    "\n",
    "#the floor division // rounds the result down to the nearest whole number\n"
   ]
  },
  {
   "cell_type": "markdown",
   "id": "1fa54f8c-5814-4059-a800-9dcebaa9eb78",
   "metadata": {},
   "source": [
    "#### Assignment Operators"
   ]
  },
  {
   "attachments": {
    "5f4c5b02-484c-49e1-af1a-551cc038a665.PNG": {
     "image/png": "[encoded data removed]"
    }
   },
   "cell_type": "markdown",
   "id": "762ed626-1832-4943-b6ed-62746bdafe26",
   "metadata": {},
   "source": [
    "![Captu111re.PNG](attachment:5f4c5b02-484c-49e1-af1a-551cc038a665.PNG)"
   ]
  },
  {
   "cell_type": "code",
   "execution_count": null,
   "id": "b20fe907-b0da-4eed-9733-b63d1abb245c",
   "metadata": {},
   "outputs": [],
   "source": [
    "x = 5\n",
    "\n",
    "print(x)\n"
   ]
  },
  {
   "cell_type": "code",
   "execution_count": null,
   "id": "6e36ca26-0271-4420-9a61-1667d9e82450",
   "metadata": {},
   "outputs": [],
   "source": [
    "x = 5\n",
    "\n",
    "x += 3\n",
    "\n",
    "print(x)\n"
   ]
  },
  {
   "cell_type": "code",
   "execution_count": null,
   "id": "9f38b9e8-7842-44fa-9b35-70aaf1eacfa5",
   "metadata": {},
   "outputs": [],
   "source": [
    "\n",
    "\n",
    "x = 5\n",
    "\n",
    "x -= 3\n",
    "\n",
    "print(x)\n"
   ]
  },
  {
   "cell_type": "code",
   "execution_count": null,
   "id": "a7fdc863-9fca-4ef1-98bb-867b59d8f7f6",
   "metadata": {},
   "outputs": [],
   "source": [
    "x = 5\n",
    "\n",
    "x *= 3\n",
    "\n",
    "print(x)\n"
   ]
  },
  {
   "cell_type": "code",
   "execution_count": null,
   "id": "28bc6986-0b6f-4060-83d6-e28a0446f92b",
   "metadata": {},
   "outputs": [],
   "source": [
    "x = 5\n",
    "\n",
    "x /= 3\n",
    "\n",
    "print(x)\n"
   ]
  },
  {
   "cell_type": "code",
   "execution_count": null,
   "id": "19b85419-1645-402b-ab8a-c92e007e0716",
   "metadata": {},
   "outputs": [],
   "source": [
    "x = 5\n",
    "\n",
    "x%=3\n",
    "\n",
    "print(x)\n"
   ]
  },
  {
   "cell_type": "code",
   "execution_count": null,
   "id": "3626b317-30db-4cc8-8972-978d0a32958b",
   "metadata": {},
   "outputs": [],
   "source": [
    "x = 5\n",
    "\n",
    "x//=3\n",
    "\n",
    "print(x)\n"
   ]
  },
  {
   "cell_type": "code",
   "execution_count": null,
   "id": "77a8221b-2781-4dc2-8666-89d3d0289914",
   "metadata": {},
   "outputs": [],
   "source": [
    "x = 5\n",
    "\n",
    "x **= 3\n",
    "\n",
    "print(x)\n"
   ]
  },
  {
   "cell_type": "code",
   "execution_count": null,
   "id": "61f2311d-c596-4298-a9e8-03c502e90d2b",
   "metadata": {},
   "outputs": [],
   "source": [
    "x = 5\n",
    "\n",
    "x &= 3\n",
    "\n",
    "print(x)\n"
   ]
  },
  {
   "cell_type": "code",
   "execution_count": null,
   "id": "a36bd9fe-b92f-4fe3-8f94-b30633065c86",
   "metadata": {},
   "outputs": [],
   "source": [
    "x = 5\n",
    "\n",
    "x |= 3\n",
    "\n",
    "print(x)\n"
   ]
  },
  {
   "cell_type": "code",
   "execution_count": null,
   "id": "91a2a7db-d3c4-45fa-a08c-05624182aacd",
   "metadata": {},
   "outputs": [],
   "source": [
    "x = 5\n",
    "\n",
    "x ^= 3\n",
    "\n",
    "print(x)\n"
   ]
  },
  {
   "cell_type": "code",
   "execution_count": null,
   "id": "1162fc74-1dea-4542-aacd-557976c9bef3",
   "metadata": {},
   "outputs": [],
   "source": [
    "x = 5\n",
    "\n",
    "x >>= 3\n",
    "\n",
    "print(x)\n"
   ]
  },
  {
   "cell_type": "code",
   "execution_count": null,
   "id": "36800f46-ea98-41ea-9a90-102e3fb81695",
   "metadata": {},
   "outputs": [],
   "source": [
    "print(x := 3)"
   ]
  },
  {
   "cell_type": "code",
   "execution_count": null,
   "id": "652f4709-8237-4736-9b34-42789681a6ab",
   "metadata": {},
   "outputs": [],
   "source": [
    "x = 5\n",
    "\n",
    "x <<= 3\n",
    "\n",
    "print(x)\n"
   ]
  },
  {
   "cell_type": "markdown",
   "id": "ce37985f-1897-490d-a437-ebc9bb1590b2",
   "metadata": {},
   "source": [
    "#### Comparison Operators"
   ]
  },
  {
   "attachments": {
    "c8a1b454-55d8-4c1e-a228-b54fd8f2cf1c.PNG": {
     "image/png": "[encoded data removed]"
    }
   },
   "cell_type": "markdown",
   "id": "60dcf9ea-05ca-4cc0-80a4-fe974d95cc8f",
   "metadata": {},
   "source": [
    "![Captur3333333e.PNG](attachment:c8a1b454-55d8-4c1e-a228-b54fd8f2cf1c.PNG)"
   ]
  },
  {
   "cell_type": "code",
   "execution_count": null,
   "id": "e479bf64-dd24-40f3-881c-c35d333ea2d6",
   "metadata": {},
   "outputs": [],
   "source": [
    "x = 5\n",
    "y = 3\n",
    "\n",
    "print(x == y)\n",
    "\n",
    "# returns False because 5 is not equal to 3\n"
   ]
  },
  {
   "cell_type": "code",
   "execution_count": null,
   "id": "55906581-c4a6-42e1-a1b2-f97d83170eda",
   "metadata": {},
   "outputs": [],
   "source": [
    "x = 5\n",
    "y = 3\n",
    "\n",
    "print(x != y)\n",
    "\n",
    "# returns True because 5 is not equal to 3\n"
   ]
  },
  {
   "cell_type": "code",
   "execution_count": null,
   "id": "856fd481-b878-4a8f-b976-bd0f18299676",
   "metadata": {},
   "outputs": [],
   "source": [
    "x = 5\n",
    "y = 3\n",
    "\n",
    "print(x > y)\n",
    "\n",
    "# returns True because 5 is greater than 3\n"
   ]
  },
  {
   "cell_type": "code",
   "execution_count": null,
   "id": "8dba435d-f626-42a7-aa47-0074f5d6744a",
   "metadata": {},
   "outputs": [],
   "source": [
    "x = 5\n",
    "y = 3\n",
    "\n",
    "print(x < y)\n",
    "\n",
    "# returns False because 5 is not less than 3\n"
   ]
  },
  {
   "cell_type": "code",
   "execution_count": null,
   "id": "0c416f04-3de1-4519-b07d-9b22d17382d5",
   "metadata": {},
   "outputs": [],
   "source": [
    "x = 5\n",
    "y = 3\n",
    "\n",
    "print(x <= y)\n",
    "\n",
    "# returns True because five is greater, or equal, to 3\n"
   ]
  },
  {
   "cell_type": "code",
   "execution_count": null,
   "id": "32b45830-e26f-4b21-8795-50757e900a8f",
   "metadata": {},
   "outputs": [],
   "source": [
    "x = 5\n",
    "y = 3\n",
    "\n",
    "print(x >= y)\n",
    "\n",
    "# returns True because five is greater, or equal, to 3\n"
   ]
  },
  {
   "cell_type": "markdown",
   "id": "6329e8de-4e0b-4b76-91d4-bbe081d03a22",
   "metadata": {},
   "source": [
    "##### Logical Operators"
   ]
  },
  {
   "attachments": {
    "3204f966-508a-4987-8f5e-6432405d8157.PNG": {
     "image/png": "[encoded data removed]"
    }
   },
   "cell_type": "markdown",
   "id": "45cf9d71-4362-42c8-9da9-59369ef707ca",
   "metadata": {},
   "source": [
    "![Captu66564re.PNG](attachment:3204f966-508a-4987-8f5e-6432405d8157.PNG)"
   ]
  },
  {
   "cell_type": "code",
   "execution_count": null,
   "id": "868f60d9-ec1b-4efd-ba8f-0bdfb15e60aa",
   "metadata": {},
   "outputs": [],
   "source": [
    "x = 5\n",
    "\n",
    "print(x > 3 and x < 10)\n",
    "\n",
    "# returns True because 5 is greater than 3 AND 5 is less than 10\n"
   ]
  },
  {
   "cell_type": "code",
   "execution_count": null,
   "id": "204904d1-fd02-48e9-9bfd-a76dc432d36e",
   "metadata": {},
   "outputs": [],
   "source": [
    "x = 5\n",
    "\n",
    "print(x > 3 or x < 4)\n",
    "\n",
    "# returns True because one of the conditions are true (5 is greater than 3, but 5 is not less than 4)\n"
   ]
  },
  {
   "cell_type": "code",
   "execution_count": null,
   "id": "9f68eaa5-7d8f-4654-873c-beec4fff55bb",
   "metadata": {},
   "outputs": [],
   "source": [
    "x = 5\n",
    "\n",
    "print(not(x > 3 and x < 10))\n",
    "\n",
    "# returns False because not is used to reverse the result\n"
   ]
  },
  {
   "cell_type": "markdown",
   "id": "c95c23d7-54bd-4560-97ac-829f7cd2a8ba",
   "metadata": {},
   "source": [
    "#### Identity Operators"
   ]
  },
  {
   "attachments": {
    "a94be7d4-630e-487d-8e57-d45fa204e4cb.PNG": {
     "image/png": "[encoded data removed]"
    }
   },
   "cell_type": "markdown",
   "id": "b350e36f-efc1-4bd1-86dd-d157a7a9eef4",
   "metadata": {},
   "source": [
    "![Capt4564ure.PNG](attachment:a94be7d4-630e-487d-8e57-d45fa204e4cb.PNG)"
   ]
  },
  {
   "cell_type": "code",
   "execution_count": null,
   "id": "26455567-1e88-46fb-b90d-adf7fbdd54e5",
   "metadata": {},
   "outputs": [],
   "source": [
    "x = [\"apple\", \"banana\"]\n",
    "y = [\"apple\", \"banana\"]\n",
    "z = x\n",
    "\n",
    "print(x is not z)\n",
    "\n",
    "# returns False because z is the same object as x\n",
    "\n",
    "print(x is not y)\n",
    "\n",
    "# returns True because x is not the same object as y, even if they have the same content\n",
    "\n",
    "print(x != y)\n",
    "\n",
    "# to demonstrate the difference betweeen \"is not\" and \"!=\": this comparison returns False because x is equal to y\n"
   ]
  },
  {
   "cell_type": "code",
   "execution_count": null,
   "id": "cd54fc37-b2db-449e-99ed-5bba24c14fde",
   "metadata": {},
   "outputs": [],
   "source": [
    "x = [\"apple\", \"banana\"]\n",
    "y = [\"apple\", \"banana\"]\n",
    "z = x\n",
    "\n",
    "print(x is z)\n",
    "\n",
    "# returns True because z is the same object as x\n",
    "\n",
    "print(x is y)\n",
    "\n",
    "# returns False because x is not the same object as y, even if they have the same content\n",
    "\n",
    "print(x == y)\n",
    "\n",
    "# to demonstrate the difference betweeen \"is\" and \"==\": this comparison returns True because x is equal to y\n"
   ]
  },
  {
   "cell_type": "markdown",
   "id": "7318632a-c60b-4d6b-9e5b-56d7415d3689",
   "metadata": {},
   "source": [
    "##### Membership Operators"
   ]
  },
  {
   "attachments": {
    "9297f3ad-0d52-4a02-9d4a-0b70bb3f555e.PNG": {
     "image/png": "[encoded data removed]"
    }
   },
   "cell_type": "markdown",
   "id": "bcb7e3c4-3667-4422-a79c-245257b01503",
   "metadata": {},
   "source": [
    "![Ca254756pture.PNG](attachment:9297f3ad-0d52-4a02-9d4a-0b70bb3f555e.PNG)"
   ]
  },
  {
   "cell_type": "code",
   "execution_count": null,
   "id": "3e862e2e-5f8c-4da5-b02f-c3471a56ce76",
   "metadata": {},
   "outputs": [],
   "source": [
    "x = [\"apple\", \"banana\"]\n",
    "\n",
    "print(\"pineapple\" not in x)\n",
    "\n",
    "# returns True because a sequence with the value \"pineapple\" is not in the list\n"
   ]
  },
  {
   "cell_type": "code",
   "execution_count": null,
   "id": "f6b45407-a483-43df-bdac-cba337d56130",
   "metadata": {},
   "outputs": [],
   "source": [
    "x = [\"apple\", \"banana\"]\n",
    "\n",
    "print(\"banana\" in x)\n",
    "\n",
    "# returns True because a sequence with the value \"banana\" is in the list\n"
   ]
  },
  {
   "cell_type": "markdown",
   "id": "45159770-8424-424c-b97f-809ab4500f2d",
   "metadata": {},
   "source": [
    "##### Bitwise Operators"
   ]
  },
  {
   "attachments": {
    "bf71a333-fd4d-487b-a138-5f12fff707ab.PNG": {
     "image/png": "[encoded data removed]"
    }
   },
   "cell_type": "markdown",
   "id": "70d9b4b1-c76e-4c00-a0fb-b13bf302eeb4",
   "metadata": {},
   "source": [
    "![Captu63564re.PNG](attachment:bf71a333-fd4d-487b-a138-5f12fff707ab.PNG)"
   ]
  },
  {
   "cell_type": "code",
   "execution_count": null,
   "id": "6b08d86e-5bd3-4eb3-bc38-89c2abba93c6",
   "metadata": {},
   "outputs": [],
   "source": [
    "print(6 & 3)\n",
    "\n",
    "\n",
    "\n",
    "\"\"\"\n",
    "The & operator compares each bit and set it to 1 if both are 1, otherwise it is set to 0:\n",
    "\n",
    "6 = 0000000000000110\n",
    "3 = 0000000000000011\n",
    "--------------------\n",
    "2 = 0000000000000010\n",
    "====================\n",
    "\n",
    "Decimal numbers and their binary values:\n",
    "0 = 0000000000000000\n",
    "1 = 0000000000000001\n",
    "2 = 0000000000000010\n",
    "3 = 0000000000000011\n",
    "4 = 0000000000000100\n",
    "5 = 0000000000000101\n",
    "6 = 0000000000000110\n",
    "7 = 0000000000000111\n",
    "\"\"\"\n",
    "\n"
   ]
  },
  {
   "cell_type": "code",
   "execution_count": null,
   "id": "6027c693-acdd-48c7-8223-fe6fd2831b66",
   "metadata": {},
   "outputs": [],
   "source": [
    "print(6 | 3)\n",
    "\n",
    "\n",
    "\n",
    "\"\"\"\n",
    "The | operator compares each bit and set it to 1 if one or both is 1, otherwise it is set to 0:\n",
    "\n",
    "6 = 0000000000000110\n",
    "3 = 0000000000000011\n",
    "--------------------\n",
    "7 = 0000000000000111\n",
    "====================\n",
    "\n",
    "Decimal numbers and their binary values:\n",
    "0 = 0000000000000000\n",
    "1 = 0000000000000001\n",
    "2 = 0000000000000010\n",
    "3 = 0000000000000011\n",
    "4 = 0000000000000100\n",
    "5 = 0000000000000101\n",
    "6 = 0000000000000110\n",
    "7 = 0000000000000111\n",
    "\"\"\"\n",
    "\n"
   ]
  },
  {
   "cell_type": "code",
   "execution_count": null,
   "id": "4bf4dadf-53f9-4e54-bb48-a5a1f605f4f4",
   "metadata": {},
   "outputs": [],
   "source": [
    "print(6 ^ 3)\n",
    "\n",
    "\n",
    "\n",
    "\"\"\"\n",
    "The ^ operator compares each bit and set it to 1 if only one is 1, otherwise (if both are 1 or both are 0) it is set to 0:\n",
    "\n",
    "6 = 0000000000000110\n",
    "3 = 0000000000000011\n",
    "--------------------\n",
    "5 = 0000000000000101\n",
    "====================\n",
    "\n",
    "Decimal numbers and their binary values:\n",
    "0 = 0000000000000000\n",
    "1 = 0000000000000001\n",
    "2 = 0000000000000010\n",
    "3 = 0000000000000011\n",
    "4 = 0000000000000100\n",
    "5 = 0000000000000101\n",
    "6 = 0000000000000110\n",
    "7 = 0000000000000111\n",
    "\"\"\"\n",
    "\n"
   ]
  },
  {
   "cell_type": "code",
   "execution_count": null,
   "id": "9eb2ff28-2b45-4c1b-9568-84f548d91e18",
   "metadata": {},
   "outputs": [],
   "source": [
    "print(~3)\n",
    "\n",
    "\n",
    "\n",
    "\"\"\"\n",
    "The ~ operator inverts each bit (0 becomes 1 and 1 becomes 0).\n",
    "\n",
    "Inverted 3 becomes -4:\n",
    " 3 = 0000000000000011\n",
    "-4 = 1111111111111100\n",
    "\n",
    "Decimal numbers and their binary values:\n",
    " 4 = 0000000000000100\n",
    " 3 = 0000000000000011\n",
    " 2 = 0000000000000010\n",
    " 1 = 0000000000000001\n",
    " 0 = 0000000000000000\n",
    "-1 = 1111111111111111\n",
    "-2 = 1111111111111110\n",
    "-3 = 1111111111111101\n",
    "-4 = 1111111111111100\n",
    "\"\"\"\n",
    "\n"
   ]
  },
  {
   "cell_type": "code",
   "execution_count": null,
   "id": "a387f7ce-3a99-40e0-86e4-a93aabc3d562",
   "metadata": {},
   "outputs": [],
   "source": [
    "print(3 << 2)\n",
    "\n",
    "\n",
    "\n",
    "\"\"\"\n",
    "The << operator inserts the specified number of 0's (in this case 2) from the right and let the same amount of leftmost bits fall off:\n",
    "\n",
    "If you push 00 in from the left:\n",
    " 3 = 0000000000000011\n",
    "becomes\n",
    "12 = 0000000000001100\n",
    "\n",
    "Decimal numbers and their binary values:\n",
    " 0 = 0000000000000000\n",
    " 1 = 0000000000000001\n",
    " 2 = 0000000000000010\n",
    " 3 = 0000000000000011\n",
    " 4 = 0000000000000100\n",
    " 5 = 0000000000000101\n",
    " 6 = 0000000000000110\n",
    " 7 = 0000000000000111\n",
    " 8 = 0000000000001000\n",
    " 9 = 0000000000001001\n",
    "10 = 0000000000001010\n",
    "11 = 0000000000001011\n",
    "12 = 0000000000001100\n",
    "\"\"\"\n",
    "\n"
   ]
  },
  {
   "cell_type": "code",
   "execution_count": null,
   "id": "10dc5195-f1db-467f-93e4-30b1cf3fe4b3",
   "metadata": {},
   "outputs": [],
   "source": [
    "print(8 >> 2)\n",
    "\n",
    "\n",
    "\n",
    "\"\"\"\n",
    "The >> operator moves each bit the specified number of times to the right. Empty holes at the left are filled with 0's.\n",
    "\n",
    "If you move each bit 2 times to the right, 8 becomes 2:\n",
    " 8 = 0000000000001000\n",
    "becomes\n",
    " 2 = 0000000000000010\n",
    "\n",
    "Decimal numbers and their binary values:\n",
    " 0 = 0000000000000000\n",
    " 1 = 0000000000000001\n",
    " 2 = 0000000000000010\n",
    " 3 = 0000000000000011\n",
    " 4 = 0000000000000100\n",
    " 5 = 0000000000000101\n",
    " 6 = 0000000000000110\n",
    " 7 = 0000000000000111\n",
    " 8 = 0000000000001000\n",
    " 9 = 0000000000001001\n",
    "10 = 0000000000001010\n",
    "11 = 0000000000001011\n",
    "12 = 0000000000001100\n",
    "\"\"\"\n",
    "\n"
   ]
  },
  {
   "cell_type": "markdown",
   "id": "a3fdf8f9-26e2-426e-b967-035bb350f5eb",
   "metadata": {},
   "source": [
    "##### Operator Precedence"
   ]
  },
  {
   "attachments": {
    "be2e6ad0-de9f-45fc-bba8-977ba36324e4.PNG": {
     "image/png": "[encoded data removed]"
    }
   },
   "cell_type": "markdown",
   "id": "920f0776-8b89-4440-ac69-d6d1a792455f",
   "metadata": {},
   "source": [
    "![Captur22212e.PNG](attachment:be2e6ad0-de9f-45fc-bba8-977ba36324e4.PNG)"
   ]
  },
  {
   "cell_type": "code",
   "execution_count": null,
   "id": "a4158a77-1719-4812-a4d0-811f38a45f36",
   "metadata": {},
   "outputs": [],
   "source": [
    "print((6 + 3) - (6 + 3))"
   ]
  },
  {
   "cell_type": "code",
   "execution_count": null,
   "id": "e6cb5f7e-f4d6-4b58-9920-d67d11bd0d85",
   "metadata": {},
   "outputs": [],
   "source": [
    "print(100 + 5 * 3)"
   ]
  },
  {
   "cell_type": "code",
   "execution_count": null,
   "id": "3fe44189-026b-4f9a-a14f-0d05d6883381",
   "metadata": {},
   "outputs": [],
   "source": [
    "print((6 + 3) - (6 + 3))\n",
    "\n",
    "\"\"\"\n",
    "Parenthesis have the highest precedence, and need to be evaluated first.\n",
    "The calculation above reads 9 - 9 = 0\n",
    "\"\"\"\n"
   ]
  },
  {
   "cell_type": "code",
   "execution_count": null,
   "id": "520bbbf1-1ffd-4e6f-b5bd-37e79ebf567a",
   "metadata": {},
   "outputs": [],
   "source": [
    "print(100 - 3 ** 3)\n",
    "\n",
    "\"\"\"\n",
    "Exponentiation has higher precedence than subtraction, and needs to be evaluated first.\n",
    "The calculation above reads 100 - 27 = 73\n",
    "\"\"\"\n"
   ]
  },
  {
   "cell_type": "code",
   "execution_count": null,
   "id": "6292d164-200c-44a4-8591-4eb71313dae2",
   "metadata": {},
   "outputs": [],
   "source": [
    "print(100 + ~3)\n",
    "\n",
    "\"\"\"\n",
    "Bitwise NOT has higher precedence than addition, and needs to be evaluated first.\n",
    "The calculation above reads 100 + -4 = 96\n",
    "\"\"\"\n"
   ]
  },
  {
   "cell_type": "code",
   "execution_count": null,
   "id": "319bb29a-6c7b-4f80-9879-ebb8de54587f",
   "metadata": {},
   "outputs": [],
   "source": [
    "print(100 + 5 * 3)\n",
    "\n",
    "\"\"\"\n",
    "Multiplication has higher precedence than addition, and needs to be evaluated first.\n",
    "The calculation above reads 100 + 15 = 115\n",
    "\"\"\"\n"
   ]
  },
  {
   "cell_type": "code",
   "execution_count": null,
   "id": "df5f4354-434a-4923-abd5-fdbb00915b6a",
   "metadata": {},
   "outputs": [],
   "source": [
    "\n",
    "Result Size: 945 x 724\n",
    "print(100 - 5 * 3)\n",
    "\n",
    "\"\"\"\n",
    "Subtraction has a lower precedence than multiplication, and we need to calculate the multiplication first.\n",
    "The calculation above reads 100 - 15 = 85\n",
    "\"\"\"\n"
   ]
  },
  {
   "cell_type": "code",
   "execution_count": null,
   "id": "97499cba-2c09-43c0-9797-bada884febca",
   "metadata": {},
   "outputs": [],
   "source": [
    "\n",
    "Result Size: 945 x 724\n",
    "print(8 >> 4 - 2)\n",
    "​\n",
    "\"\"\"\n",
    "Bitwise right shift has a lower precedence than subtraction, and we need to calculate the subtraction first.\n",
    "The calculation above reads 8 >> 2 = 2\n",
    "​\n",
    "More explanation:\n",
    "The >> operator moves each bit the specified number of times to the right. Empty holes at the left are filled with 0's.\n",
    "​\n",
    "If you move each bit 2 times to the right, 8 becomes 2:\n",
    " 8 = 0000000000001000\n",
    "becomes\n",
    " 2 = 0000000000000010\n",
    "​\n",
    "Decimal numbers and their binary values:\n",
    " 0 = 0000000000000000\n",
    " 1 = 0000000000000001\n",
    " 2 = 0000000000000010\n",
    " 3 = 0000000000000011\n",
    " 4 = 0000000000000100\n",
    " 5 = 0000000000000101\n",
    " 6 = 0000000000000110\n",
    " 7 = 0000000000000111\n",
    " 8 = 0000000000001000\n",
    " 9 = 0000000000001001\n",
    "10 = 0000000000001010\n",
    "11 = 0000000000001011\n",
    "12 = 0000000000001100\n",
    "\"\"\"\n",
    "​\n",
    "2"
   ]
  },
  {
   "cell_type": "code",
   "execution_count": null,
   "id": "fe62d9c7-3f9b-43e5-9aab-5593ca3cc093",
   "metadata": {},
   "outputs": [],
   "source": [
    "\n",
    "Result Size: 945 x 724\n",
    "print(6 & 2 + 1)\n",
    "​\n",
    "\"\"\"\n",
    "Bitwise AND has a lower precedence than addition, and we need to calculate the addition first.\n",
    "The calculation above reads 6 & 3 = 2\n",
    "​\n",
    "More explanation:\n",
    "The & operator compares each bit and set it to 1 if both are 1, otherwise it is set to 0:\n",
    "​\n",
    "6 = 0000000000000110\n",
    "3 = 0000000000000011\n",
    "--------------------\n",
    "2 = 0000000000000010\n",
    "====================\n",
    "​\n",
    "Decimal numbers and their binary values:\n",
    "0 = 0000000000000000\n",
    "1 = 0000000000000001\n",
    "2 = 0000000000000010\n",
    "3 = 0000000000000011\n",
    "4 = 0000000000000100\n",
    "5 = 0000000000000101\n",
    "6 = 0000000000000110\n",
    "7 = 0000000000000111\n",
    "\"\"\"\n",
    "​\n",
    "2"
   ]
  },
  {
   "cell_type": "code",
   "execution_count": null,
   "id": "d7188542-e54c-4ab5-9db6-4a9b076663eb",
   "metadata": {},
   "outputs": [],
   "source": [
    "print(6 ^ 2 + 1)\n",
    "\n",
    "\"\"\"\n",
    "Bitwise XOR has a lower precedence than addition, and we need to calculate the addition first.\n",
    "The calculation above reads 6 ^ 3 = 5\n",
    "\n",
    "More explanation:\n",
    "The ^ operator compares each bit and set it to 1 if only one is 1, otherwise (if both are 1 or both are 0) it is set to 0:\n",
    "\n",
    "6 = 0000000000000110\n",
    "3 = 0000000000000011\n",
    "--------------------\n",
    "5 = 0000000000000101\n",
    "====================\n",
    "\n",
    "Decimal numbers and their binary values:\n",
    "0 = 0000000000000000\n",
    "1 = 0000000000000001\n",
    "2 = 0000000000000010\n",
    "3 = 0000000000000011\n",
    "4 = 0000000000000100\n",
    "5 = 0000000000000101\n",
    "6 = 0000000000000110\n",
    "7 = 0000000000000111\n",
    "\"\"\"\n"
   ]
  },
  {
   "cell_type": "code",
   "execution_count": null,
   "id": "cb524343-0c4b-41d5-808d-2bd902ed70d1",
   "metadata": {},
   "outputs": [],
   "source": [
    "print(6 | 2 + 1)\n",
    "\n",
    "\"\"\"\n",
    "Bitwise OR has a lower precedence than addition, and we need to calculate the addition first.\n",
    "The calculation above reads 6 | 3 = 7\n",
    "\n",
    "More explanation:\n",
    "The | operator compares each bit and set it to 1 if one or both is 1, otherwise it is set to 0:\n",
    "\n",
    "6 = 0000000000000110\n",
    "3 = 0000000000000011\n",
    "--------------------\n",
    "7 = 0000000000000111\n",
    "====================\n",
    "\n",
    "Decimal numbers and their binary values:\n",
    "0 = 0000000000000000\n",
    "1 = 0000000000000001\n",
    "2 = 0000000000000010\n",
    "3 = 0000000000000011\n",
    "4 = 0000000000000100\n",
    "5 = 0000000000000101\n",
    "6 = 0000000000000110\n",
    "7 = 0000000000000111\n",
    "\"\"\"\n"
   ]
  },
  {
   "cell_type": "code",
   "execution_count": null,
   "id": "8496f344-ddf7-4608-819c-041f91decf2f",
   "metadata": {},
   "outputs": [],
   "source": [
    "print(5 == 4 + 1)\n",
    "\n",
    "\"\"\"\n",
    "The \"like\" comparison has a lower precedence than addition, and we need to calculate the addition first.\n",
    "The calculation above reads 5 == 5 = True\n",
    "\"\"\"\n"
   ]
  },
  {
   "cell_type": "code",
   "execution_count": null,
   "id": "c31a69c3-7374-40ed-961b-ab5b0d4d0427",
   "metadata": {},
   "outputs": [],
   "source": [
    "print(not 5 == 5)\n",
    "\n",
    "\"\"\"\n",
    "The logical NOT operator has a lower precedence than \"like\" comparison, and we need to calculate the comparison first.\n",
    "The calculation above reads: not True = False\n",
    "\"\"\"\n"
   ]
  },
  {
   "cell_type": "code",
   "execution_count": null,
   "id": "0db2bd25-e4b5-48ec-970b-74f036ac0d39",
   "metadata": {},
   "outputs": [],
   "source": [
    "print(1 or 2 and 3)\n",
    "\n",
    "\"\"\"\n",
    "The and operator has a higher precedence than or, and we need to calculate the and expression first.\n",
    "The calculation above reads: 1 or 3 = 1\n",
    "\"\"\"\n"
   ]
  },
  {
   "cell_type": "code",
   "execution_count": null,
   "id": "d742ab21-09f6-49e9-8809-8d35d6a58996",
   "metadata": {},
   "outputs": [],
   "source": [
    "print(4 or 5 + 10 or 8)\n",
    "\n",
    "\"\"\"\n",
    "The or operator has a lower precedence than addition, and we need to calculate the addition first.\n",
    "The calculation above reads: 4 or 15 or 8 = 4\n",
    "\"\"\"\n"
   ]
  },
  {
   "cell_type": "code",
   "execution_count": null,
   "id": "fcfaa87d-b476-4dcd-a8ae-5745d6cb3c38",
   "metadata": {},
   "outputs": [],
   "source": []
  },
  {
   "cell_type": "code",
   "execution_count": null,
   "id": "a48647d3-f1e7-41ae-94b1-989a69b81235",
   "metadata": {},
   "outputs": [],
   "source": []
  },
  {
   "cell_type": "code",
   "execution_count": null,
   "id": "3ad4ebe1-7a23-4570-90c9-df19929f6d05",
   "metadata": {},
   "outputs": [],
   "source": []
  },
  {
   "cell_type": "code",
   "execution_count": null,
   "id": "190132e6-8e91-414f-8592-5d1d2a6f5013",
   "metadata": {},
   "outputs": [],
   "source": []
  }
 ],
 "metadata": {
  "kernelspec": {
   "display_name": "Python 3 (ipykernel)",
   "language": "python",
   "name": "python3"
  },
  "language_info": {
   "codemirror_mode": {
    "name": "ipython",
    "version": 3
   },
   "file_extension": ".py",
   "mimetype": "text/x-python",
   "name": "python",
   "nbconvert_exporter": "python",
   "pygments_lexer": "ipython3",
   "version": "3.12.3"
  },
  "toc": {
   "base_numbering": 0
  },
  "widgets": {
   "application/vnd.jupyter.widget-state+json": {
    "state": {},
    "version_major": 2,
    "version_minor": 0
   }
  }
 },
 "nbformat": 4,
 "nbformat_minor": 5
}
